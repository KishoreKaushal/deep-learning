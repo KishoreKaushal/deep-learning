{
 "cells": [
  {
   "cell_type": "markdown",
   "metadata": {},
   "source": [
    "# Run this notebook from top to down. [Order Dependent]"
   ]
  },
  {
   "cell_type": "markdown",
   "metadata": {},
   "source": [
    "### Question 2(without normalization)\n",
    "\n",
    "Train the perceptron model on training data and use the model to classify test data."
   ]
  },
  {
   "cell_type": "code",
   "execution_count": 107,
   "metadata": {},
   "outputs": [],
   "source": [
    "# imports and configurations\n",
    "import os\n",
    "import numpy as np\n",
    "import matplotlib.pyplot as plt\n",
    "import seaborn as sns\n",
    "import pandas as pd\n",
    "from sklearn.model_selection import train_test_split\n",
    "from sklearn.preprocessing import MinMaxScaler\n",
    "plt.rcParams[\"figure.figsize\"] = (20,10)\n",
    "\n",
    "data_file = \"Dataset Question2.csv\"\n",
    "test_size = 0.2\n",
    "\n",
    "max_itr = 123456"
   ]
  },
  {
   "cell_type": "code",
   "execution_count": 88,
   "metadata": {},
   "outputs": [
    {
     "name": "stdout",
     "output_type": "stream",
     "text": [
      "(1097, 4)\n",
      "(1097,)\n",
      "(1097, 5)\n",
      "(1097,)\n",
      "(275, 5)\n",
      "(275,)\n",
      "1-th itr. weight: [ 0.003 -0.326 -0.783  0.522  0.087], zero-one-loss: 0.35824977210574294\n",
      "2-th itr. weight: [ 0.032 -0.686 -0.655  0.303 -0.085], zero-one-loss: 0.27620783956244305\n",
      "4-th itr. weight: [ 0.07  -0.887 -0.262 -0.253 -0.273], zero-one-loss: 0.07292616226071102\n",
      "8-th itr. weight: [ 0.122 -0.811 -0.348 -0.411 -0.194], zero-one-loss: 0.03919781221513218\n",
      "16-th itr. weight: [ 0.228 -0.736 -0.39  -0.48  -0.156], zero-one-loss: 0.03099361896080219\n",
      "32-th itr. weight: [ 0.355 -0.668 -0.412 -0.484 -0.15 ], zero-one-loss: 0.018231540565177756\n",
      "64-th itr. weight: [ 0.445 -0.641 -0.384 -0.477 -0.129], zero-one-loss: 0.01731996353691887\n",
      "128-th itr. weight: [ 0.522 -0.637 -0.355 -0.435 -0.084], zero-one-loss: 0.008204193254329991\n",
      "256-th itr. weight: [ 0.582 -0.618 -0.32  -0.418 -0.053], zero-one-loss: 0.011850501367365542\n",
      "512-th itr. weight: [ 0.585 -0.617 -0.334 -0.405 -0.047], zero-one-loss: 0.009115770282588878\n",
      "1024-th itr. weight: [ 0.586 -0.619 -0.32  -0.411 -0.054], zero-one-loss: 0.008204193254329991\n",
      "2048-th itr. weight: [ 0.58  -0.616 -0.327 -0.418 -0.05 ], zero-one-loss: 0.009115770282588878\n",
      "4096-th itr. weight: [ 0.582 -0.615 -0.318 -0.422 -0.05 ], zero-one-loss: 0.011850501367365542\n",
      "8192-th itr. weight: [ 0.584 -0.621 -0.369 -0.368 -0.043], zero-one-loss: 0.01731996353691887\n",
      "16384-th itr. weight: [ 0.586 -0.613 -0.323 -0.417 -0.05 ], zero-one-loss: 0.009115770282588878\n",
      "32768-th itr. weight: [ 0.585 -0.612 -0.338 -0.407 -0.05 ], zero-one-loss: 0.009115770282588878\n",
      "65536-th itr. weight: [ 0.588 -0.611 -0.337 -0.406 -0.046], zero-one-loss: 0.009115770282588878\n",
      "Normalized weights at convergence is [ 0.587 -0.616 -0.346 -0.392 -0.049]\n",
      "Count: 275\n",
      "Misclassified: 6\n",
      "Accuracy: 97.82%\n"
     ]
    }
   ],
   "source": [
    "df = pd.read_csv(data_file, header=None)\n",
    "num_features = df.columns.shape[0] - 1\n",
    "X_train, X_test, y_train, y_test = train_test_split(df[list(range(4))].to_numpy(), df[4].add(0.1).astype(np.int).to_numpy(), test_size=0.2)\n",
    "\n",
    "# Augmenting the data and mapping labels {0, 1} to {-1, +1}\n",
    "X_train = np.hstack((np.ones(X_train.shape[0]).reshape(-1, 1), X_train))\n",
    "y_train = y_train * 2 - 1\n",
    "\n",
    "X_test = np.hstack((np.ones(X_test.shape[0]).reshape(-1, 1), X_test))\n",
    "y_test = y_test * 2 - 1\n",
    "\n",
    "# result data need to retrieve from model\n",
    "zero_one_loss = []\n",
    "itr_num = []\n",
    "count_misclassified = []\n",
    "tr_confusion_matrix = None\n",
    "ts_confusion_matrix = None\n",
    "weights = None\n",
    "\n",
    "# perceptron learning\n",
    "W = np.random.randn(X_train.shape[1])\n",
    "\n",
    "converged = False\n",
    "k = 0\n",
    "sampling_idx = 1\n",
    "\n",
    "while k < max_itr and not converged:\n",
    "    Z = np.multiply(np.dot(X_train, W), y_train)\n",
    "\n",
    "    idx_misclassified = np.argwhere(Z <= 0).reshape(-1)\n",
    "    if k == sampling_idx:\n",
    "        sampling_idx *= 2\n",
    "        zero_one_loss.append(idx_misclassified.shape[0] / Z.shape[0])\n",
    "        count_misclassified.append(idx_misclassified.shape[0])\n",
    "        itr_num.append(k)\n",
    "        print(\"{}-th itr. weight: {}, zero-one-loss: {}\".format(k, np.round(W / np.linalg.norm(W),3), zero_one_loss[-1]))\n",
    "\n",
    "    converged = True\n",
    "\n",
    "    for j in idx_misclassified:\n",
    "        W = W + y_train[j] * X_train[j]\n",
    "        converged = False\n",
    "    k += 1\n",
    "\n",
    "norm_W = W / np.linalg.norm(W)\n",
    "print(\"Normalized weights at convergence is {}\".format(np.round(norm_W,3)))\n",
    "\n",
    "weights = norm_W\n",
    "\n",
    "# final loss\n",
    "Z = np.multiply(np.dot(X_train,W), y_train)\n",
    "idx_misclassified = np.argwhere(Z <= 0).reshape(-1)\n",
    "zero_one_loss.append(idx_misclassified.shape[0] / Z.shape[0])\n",
    "count_misclassified.append(idx_misclassified.shape[0])\n",
    "itr_num.append(k)\n",
    "\n",
    "# building confusion matrix for train data\n",
    "Y_pred = np.dot(X_train,W)\n",
    "Y_Y_pred = np.multiply(y_train, Y_pred)\n",
    "true_idx = np.where(Y_Y_pred > 0)\n",
    "neg_idx = np.where(Y_Y_pred < 0)\n",
    "tp = np.where(y_train[true_idx]*Y_pred[true_idx]*Y_pred[true_idx] > 0)[0].shape[0]\n",
    "fp = np.where(y_train[neg_idx]*Y_pred[neg_idx]*Y_pred[neg_idx] > 0)[0].shape[0]\n",
    "fn = np.where(y_train[neg_idx]*Y_pred[neg_idx]*Y_pred[neg_idx] < 0)[0].shape[0]\n",
    "tn = np.where(y_train[true_idx]*Y_pred[true_idx]*Y_pred[true_idx] < 0)[0].shape[0]\n",
    "tr_confusion_matrix = np.array([[tp, fp], [fn, tn]])\n",
    "\n",
    "# building confusion matrix for test data\n",
    "Y_pred = np.dot(X_test,W)\n",
    "Y_Y_pred = np.multiply(y_test, Y_pred)\n",
    "true_idx = np.where(Y_Y_pred > 0)\n",
    "neg_idx = np.where(Y_Y_pred < 0)\n",
    "tp = np.where(y_test[true_idx]*Y_pred[true_idx]*Y_pred[true_idx] > 0)[0].shape[0]\n",
    "fp = np.where(y_test[neg_idx]*Y_pred[neg_idx]*Y_pred[neg_idx] > 0)[0].shape[0]\n",
    "fn = np.where(y_test[neg_idx]*Y_pred[neg_idx]*Y_pred[neg_idx] < 0)[0].shape[0]\n",
    "tn = np.where(y_test[true_idx]*Y_pred[true_idx]*Y_pred[true_idx] < 0)[0].shape[0]\n",
    "ts_confusion_matrix = np.array([[tp, fp], [fn, tn]])\n",
    "\n",
    "# finding accuracy on test data\n",
    "Z = np.multiply(np.dot(X_test, W), y_test)\n",
    "num_misclassified = np.argwhere(Z <= 0).reshape(-1).shape[0]\n",
    "accuracy = round(100 * (1 - num_misclassified/y_test.shape[0]),2)\n",
    "print(\"Test Count: {}\\nMisclassified: {}\\nTest Accuracy: {}%\".format(y_test.shape[0], num_misclassified, accuracy))"
   ]
  },
  {
   "cell_type": "code",
   "execution_count": 101,
   "metadata": {},
   "outputs": [
    {
     "data": {
      "image/png": "[encoded data removed]",
      "text/plain": [
       "<Figure size 1440x360 with 3 Axes>"
      ]
     },
     "metadata": {
      "needs_background": "light"
     },
     "output_type": "display_data"
    }
   ],
   "source": [
    "loss = np.array(zero_one_loss)\n",
    "error = np.array(count_misclassified)\n",
    "accuracy_percent = (1-loss)*100\n",
    "\n",
    "fig, ax = plt.subplots(nrows=1, ncols=3)\n",
    "fig.set_size_inches(20,5)\n",
    "fig.suptitle('Loss, classification error, classification accuracy')\n",
    "\n",
    "ax[0].step(itr_num, loss, 'k-', label='loss')\n",
    "ax[0].set_ylabel('zero-one loss')\n",
    "ax[0].set_xlabel('iteration')\n",
    "\n",
    "ax[1].step(itr_num, error, 'r-', label='error')\n",
    "ax[1].set_ylabel('classification error(count)')\n",
    "ax[1].set_xlabel('iteration')\n",
    "\n",
    "ax[2].step(itr_num, accuracy_percent, 'b-', label='accuracy')\n",
    "ax[2].set_ylabel('accuracy %')\n",
    "ax[2].set_xlabel('iteration')\n",
    "\n",
    "\n",
    "ax[0].legend()\n",
    "ax[1].legend()\n",
    "ax[2].legend()\n",
    "plt.show()"
   ]
  },
  {
   "cell_type": "markdown",
   "metadata": {},
   "source": [
    "### Confusion Matrix\n",
    "\n",
    "True positive: Actual positive, predicted positive\n",
    "\n",
    "True negative: Actual negative, predicted negative\n",
    "\n",
    "False positive: Actual negative, predicted positive\n",
    "\n",
    "False negative: Actual positive, predicted negative"
   ]
  },
  {
   "cell_type": "code",
   "execution_count": 103,
   "metadata": {},
   "outputs": [
    {
     "data": {
      "text/plain": [
       "<matplotlib.axes._subplots.AxesSubplot at 0x256eac99ac8>"
      ]
     },
     "execution_count": 103,
     "metadata": {},
     "output_type": "execute_result"
    },
    {
     "data": {
      "image/png": "[encoded data removed]",
      "text/plain": [
       "<Figure size 720x360 with 2 Axes>"
      ]
     },
     "metadata": {
      "needs_background": "light"
     },
     "output_type": "display_data"
    }
   ],
   "source": [
    "xtick_label = ['actual +1', 'actual -1']\n",
    "ytick_label = ['predicted +1', 'predicted -1']\n",
    "\n",
    "fig, ax = plt.subplots(nrows=1, ncols=2)\n",
    "fig.set_size_inches(10,5)\n",
    "fig.suptitle('Confusion matrix for test and train dataset')\n",
    "\n",
    "sns.heatmap(tr_confusion_matrix, annot=True, ax=ax[0], xticklabels=xtick_label, yticklabels=ytick_label, fmt='d', cbar=False)\n",
    "sns.heatmap(ts_confusion_matrix, annot=True, ax=ax[1], xticklabels=xtick_label, yticklabels=ytick_label, fmt='d', cbar=False)"
   ]
  },
  {
   "cell_type": "code",
   "execution_count": 104,
   "metadata": {},
   "outputs": [
    {
     "name": "stdout",
     "output_type": "stream",
     "text": [
      "Normalized weights: [ 0.58708518 -0.61579355 -0.34604285 -0.39244088 -0.0487216 ]\n"
     ]
    }
   ],
   "source": [
    "print(\"Normalized weights: {}\".format(weights))"
   ]
  },
  {
   "cell_type": "markdown",
   "metadata": {},
   "source": [
    "### Question 2(with normalization)\n",
    "\n",
    "Normalize the training data using MinMaxScalar. Train the perceptron model on normalized data and use the model to classify test data. Compare this model with the above model."
   ]
  },
  {
   "cell_type": "code",
   "execution_count": 108,
   "metadata": {},
   "outputs": [
    {
     "name": "stdout",
     "output_type": "stream",
     "text": [
      "1-th itr. weight: [0.716 0.268 0.346 0.231 0.493], zero-one-loss: 0.5569735642661805\n",
      "2-th itr. weight: [-0.387 -0.693 -0.548 -0.008 -0.264], zero-one-loss: 0.4430264357338195\n",
      "4-th itr. weight: [-0.383 -0.692 -0.551 -0.008 -0.266], zero-one-loss: 0.4430264357338195\n",
      "8-th itr. weight: [ 0.675 -0.519 -0.148  0.299  0.405], zero-one-loss: 0.5569735642661805\n",
      "16-th itr. weight: [ 0.169 -0.874 -0.453  0.039 -0.012], zero-one-loss: 0.4375569735642662\n",
      "32-th itr. weight: [ 0.301 -0.866 -0.396 -0.003  0.042], zero-one-loss: 0.39380127620783956\n",
      "64-th itr. weight: [ 0.541 -0.756 -0.254 -0.25   0.096], zero-one-loss: 0.07748404740200547\n",
      "128-th itr. weight: [ 0.557 -0.623 -0.311 -0.447  0.077], zero-one-loss: 0.019143117593436645\n",
      "256-th itr. weight: [ 0.578 -0.52  -0.396 -0.486  0.043], zero-one-loss: 0.011850501367365542\n",
      "512-th itr. weight: [ 0.606 -0.456 -0.43  -0.489 -0.016], zero-one-loss: 0.01276207839562443\n",
      "1024-th itr. weight: [ 0.613 -0.438 -0.438 -0.489 -0.034], zero-one-loss: 0.010027347310847767\n",
      "2048-th itr. weight: [ 0.614 -0.438 -0.437 -0.489 -0.033], zero-one-loss: 0.010027347310847767\n",
      "4096-th itr. weight: [ 0.614 -0.438 -0.437 -0.489 -0.034], zero-one-loss: 0.010027347310847767\n",
      "8192-th itr. weight: [ 0.609 -0.433 -0.45  -0.487 -0.037], zero-one-loss: 0.018231540565177756\n",
      "16384-th itr. weight: [ 0.613 -0.426 -0.451 -0.487 -0.032], zero-one-loss: 0.009115770282588878\n",
      "32768-th itr. weight: [ 0.611 -0.426 -0.452 -0.489 -0.033], zero-one-loss: 0.010938924339106655\n",
      "65536-th itr. weight: [ 0.611 -0.427 -0.455 -0.487 -0.027], zero-one-loss: 0.010027347310847767\n",
      "Normalized weights at convergence is [ 0.619 -0.423 -0.445 -0.488 -0.029]\n",
      "Test Count: 275\n",
      "Misclassified: 5\n",
      "Test Accuracy: 98.18%\n"
     ]
    }
   ],
   "source": [
    "df = pd.read_csv(data_file, header=None)\n",
    "num_features = df.columns.shape[0] - 1\n",
    "X_train, X_test, y_train, y_test = train_test_split(df[list(range(4))].to_numpy(), df[4].add(0.1).astype(np.int).to_numpy(), test_size=0.2)\n",
    "\n",
    "# Transforming data\n",
    "scaler = MinMaxScaler()\n",
    "X_train = scaler.fit_transform(X_train)\n",
    "X_test = scaler.transform(X_test)\n",
    "\n",
    "# Augmenting the data and mapping labels {0, 1} to {-1, +1}\n",
    "X_train = np.hstack((np.ones(X_train.shape[0]).reshape(-1, 1), X_train))\n",
    "y_train = y_train * 2 - 1\n",
    "\n",
    "X_test = np.hstack((np.ones(X_test.shape[0]).reshape(-1, 1), X_test))\n",
    "y_test = y_test * 2 - 1\n",
    "\n",
    "# result data need to retrieve from model\n",
    "zero_one_loss = []\n",
    "itr_num = []\n",
    "count_misclassified = []\n",
    "tr_confusion_matrix = None\n",
    "ts_confusion_matrix = None\n",
    "weights = None\n",
    "\n",
    "# perceptron learning\n",
    "W = np.random.randn(X_train.shape[1])\n",
    "\n",
    "converged = False\n",
    "k = 0\n",
    "sampling_idx = 1\n",
    "\n",
    "while k < max_itr and not converged:\n",
    "    Z = np.multiply(np.dot(X_train, W), y_train)\n",
    "\n",
    "    idx_misclassified = np.argwhere(Z <= 0).reshape(-1)\n",
    "    if k == sampling_idx:\n",
    "        sampling_idx *= 2\n",
    "        zero_one_loss.append(idx_misclassified.shape[0] / Z.shape[0])\n",
    "        count_misclassified.append(idx_misclassified.shape[0])\n",
    "        itr_num.append(k)\n",
    "        print(\"{}-th itr. weight: {}, zero-one-loss: {}\".format(k, np.round(W / np.linalg.norm(W),3), zero_one_loss[-1]))\n",
    "\n",
    "    converged = True\n",
    "\n",
    "    for j in idx_misclassified:\n",
    "        W = W + y_train[j] * X_train[j]\n",
    "        converged = False\n",
    "    k += 1\n",
    "\n",
    "norm_W = W / np.linalg.norm(W)\n",
    "print(\"Normalized weights at convergence is {}\".format(np.round(norm_W,3)))\n",
    "\n",
    "weights = norm_W\n",
    "\n",
    "# final loss\n",
    "Z = np.multiply(np.dot(X_train,W), y_train)\n",
    "idx_misclassified = np.argwhere(Z <= 0).reshape(-1)\n",
    "zero_one_loss.append(idx_misclassified.shape[0] / Z.shape[0])\n",
    "count_misclassified.append(idx_misclassified.shape[0])\n",
    "itr_num.append(k)\n",
    "\n",
    "# building confusion matrix for train data\n",
    "Y_pred = np.dot(X_train,W)\n",
    "Y_Y_pred = np.multiply(y_train, Y_pred)\n",
    "true_idx = np.where(Y_Y_pred > 0)\n",
    "neg_idx = np.where(Y_Y_pred < 0)\n",
    "tp = np.where(y_train[true_idx]*Y_pred[true_idx]*Y_pred[true_idx] > 0)[0].shape[0]\n",
    "fp = np.where(y_train[neg_idx]*Y_pred[neg_idx]*Y_pred[neg_idx] > 0)[0].shape[0]\n",
    "fn = np.where(y_train[neg_idx]*Y_pred[neg_idx]*Y_pred[neg_idx] < 0)[0].shape[0]\n",
    "tn = np.where(y_train[true_idx]*Y_pred[true_idx]*Y_pred[true_idx] < 0)[0].shape[0]\n",
    "tr_confusion_matrix = np.array([[tp, fp], [fn, tn]])\n",
    "\n",
    "# building confusion matrix for test data\n",
    "Y_pred = np.dot(X_test,W)\n",
    "Y_Y_pred = np.multiply(y_test, Y_pred)\n",
    "true_idx = np.where(Y_Y_pred > 0)\n",
    "neg_idx = np.where(Y_Y_pred < 0)\n",
    "tp = np.where(y_test[true_idx]*Y_pred[true_idx]*Y_pred[true_idx] > 0)[0].shape[0]\n",
    "fp = np.where(y_test[neg_idx]*Y_pred[neg_idx]*Y_pred[neg_idx] > 0)[0].shape[0]\n",
    "fn = np.where(y_test[neg_idx]*Y_pred[neg_idx]*Y_pred[neg_idx] < 0)[0].shape[0]\n",
    "tn = np.where(y_test[true_idx]*Y_pred[true_idx]*Y_pred[true_idx] < 0)[0].shape[0]\n",
    "ts_confusion_matrix = np.array([[tp, fp], [fn, tn]])\n",
    "\n",
    "# finding accuracy on test data\n",
    "Z = np.multiply(np.dot(X_test, W), y_test)\n",
    "num_misclassified = np.argwhere(Z <= 0).reshape(-1).shape[0]\n",
    "accuracy = round(100 * (1 - num_misclassified/y_test.shape[0]),2)\n",
    "print(\"Test Count: {}\\nMisclassified: {}\\nTest Accuracy: {}%\".format(y_test.shape[0], num_misclassified, accuracy))"
   ]
  },
  {
   "cell_type": "code",
   "execution_count": 109,
   "metadata": {},
   "outputs": [
    {
     "data": {
      "image/png": "[encoded data removed]",
      "text/plain": [
       "<Figure size 1440x360 with 3 Axes>"
      ]
     },
     "metadata": {
      "needs_background": "light"
     },
     "output_type": "display_data"
    }
   ],
   "source": [
    "loss = np.array(zero_one_loss)\n",
    "error = np.array(count_misclassified)\n",
    "accuracy_percent = (1-loss)*100\n",
    "\n",
    "fig, ax = plt.subplots(nrows=1, ncols=3)\n",
    "fig.set_size_inches(20,5)\n",
    "fig.suptitle('Loss, classification error, classification accuracy')\n",
    "\n",
    "ax[0].step(itr_num, loss, 'k-', label='loss')\n",
    "ax[0].set_ylabel('zero-one loss')\n",
    "ax[0].set_xlabel('iteration')\n",
    "\n",
    "ax[1].step(itr_num, error, 'r-', label='error')\n",
    "ax[1].set_ylabel('classification error(count)')\n",
    "ax[1].set_xlabel('iteration')\n",
    "\n",
    "ax[2].step(itr_num, accuracy_percent, 'b-', label='accuracy')\n",
    "ax[2].set_ylabel('accuracy %')\n",
    "ax[2].set_xlabel('iteration')\n",
    "\n",
    "\n",
    "ax[0].legend()\n",
    "ax[1].legend()\n",
    "ax[2].legend()\n",
    "plt.show()"
   ]
  },
  {
   "cell_type": "code",
   "execution_count": 110,
   "metadata": {},
   "outputs": [
    {
     "data": {
      "text/plain": [
       "<matplotlib.axes._subplots.AxesSubplot at 0x256eb7555f8>"
      ]
     },
     "execution_count": 110,
     "metadata": {},
     "output_type": "execute_result"
    },
    {
     "data": {
      "image/png": "[encoded data removed]",
      "text/plain": [
       "<Figure size 720x360 with 2 Axes>"
      ]
     },
     "metadata": {
      "needs_background": "light"
     },
     "output_type": "display_data"
    }
   ],
   "source": [
    "xtick_label = ['actual +1', 'actual -1']\n",
    "ytick_label = ['predicted +1', 'predicted -1']\n",
    "\n",
    "fig, ax = plt.subplots(nrows=1, ncols=2)\n",
    "fig.set_size_inches(10,5)\n",
    "fig.suptitle('Confusion matrix for test and train dataset')\n",
    "\n",
    "sns.heatmap(tr_confusion_matrix, annot=True, ax=ax[0], xticklabels=xtick_label, yticklabels=ytick_label, fmt='d', cbar=False)\n",
    "sns.heatmap(ts_confusion_matrix, annot=True, ax=ax[1], xticklabels=xtick_label, yticklabels=ytick_label, fmt='d', cbar=False)"
   ]
  },
  {
   "cell_type": "code",
   "execution_count": 111,
   "metadata": {},
   "outputs": [
    {
     "name": "stdout",
     "output_type": "stream",
     "text": [
      "Normalized weights: [ 0.61943288 -0.42322936 -0.44534765 -0.48787634 -0.02866989]\n"
     ]
    }
   ],
   "source": [
    "print(\"Normalized weights: {}\".format(weights))"
   ]
  },
  {
   "cell_type": "markdown",
   "metadata": {},
   "source": [
    "### Conclusion"
   ]
  }
 ],
 "metadata": {
  "kernelspec": {
   "display_name": "Python 3",
   "language": "python",
   "name": "python3"
  },
  "language_info": {
   "codemirror_mode": {
    "name": "ipython",
    "version": 3
   },
   "file_extension": ".py",
   "mimetype": "text/x-python",
   "name": "python",
   "nbconvert_exporter": "python",
   "pygments_lexer": "ipython3",
   "version": "3.7.3"
  }
 },
 "nbformat": 4,
 "nbformat_minor": 2
}
