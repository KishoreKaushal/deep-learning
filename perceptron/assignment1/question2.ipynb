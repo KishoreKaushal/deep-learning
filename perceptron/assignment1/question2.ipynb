{
 "cells": [
  {
   "cell_type": "markdown",
   "metadata": {},
   "source": [
    "# Run this notebook from top to down. [Order Dependent]"
   ]
  },
  {
   "cell_type": "markdown",
   "metadata": {},
   "source": [
    "### Question 2(without normalization)\n",
    "\n",
    "Train the perceptron model on training data and use the model to classify test data."
   ]
  },
  {
   "cell_type": "code",
   "execution_count": 1,
   "metadata": {},
   "outputs": [],
   "source": [
    "# imports and configurations\n",
    "import os\n",
    "import numpy as np\n",
    "import matplotlib.pyplot as plt\n",
    "import seaborn as sns\n",
    "import pandas as pd\n",
    "from sklearn.model_selection import train_test_split\n",
    "from sklearn.preprocessing import MinMaxScaler\n",
    "plt.rcParams[\"figure.figsize\"] = (20,10)\n",
    "\n",
    "data_file = \"Dataset Question2.csv\"\n",
    "test_size = 0.2\n",
    "\n",
    "max_itr = 123456"
   ]
  },
  {
   "cell_type": "code",
   "execution_count": 2,
   "metadata": {},
   "outputs": [
    {
     "name": "stdout",
     "output_type": "stream",
     "text": [
      "1-th itr. weight: [-0.032 -0.315 -0.863  0.366  0.147], zero-one-loss: 0.3664539653600729\n",
      "2-th itr. weight: [-0.023 -0.598 -0.786  0.151  0.03 ], zero-one-loss: 0.3154056517775752\n",
      "4-th itr. weight: [ 0.027 -0.839 -0.39  -0.327 -0.192], zero-one-loss: 0.06381039197812215\n",
      "8-th itr. weight: [ 0.079 -0.796 -0.364 -0.443 -0.175], zero-one-loss: 0.04557885141294439\n",
      "16-th itr. weight: [ 0.178 -0.749 -0.397 -0.475 -0.157], zero-one-loss: 0.032816773017319965\n",
      "32-th itr. weight: [ 0.32  -0.682 -0.424 -0.475 -0.164], zero-one-loss: 0.020054694621695533\n",
      "64-th itr. weight: [ 0.424 -0.644 -0.401 -0.472 -0.148], zero-one-loss: 0.013673655423883319\n",
      "128-th itr. weight: [ 0.484 -0.637 -0.37  -0.46  -0.106], zero-one-loss: 0.013673655423883319\n",
      "256-th itr. weight: [ 0.536 -0.641 -0.329 -0.434 -0.073], zero-one-loss: 0.016408386508659983\n",
      "512-th itr. weight: [ 0.552 -0.632 -0.328 -0.429 -0.063], zero-one-loss: 0.014585232452142206\n",
      "1024-th itr. weight: [ 0.557 -0.632 -0.357 -0.399 -0.057], zero-one-loss: 0.014585232452142206\n",
      "2048-th itr. weight: [ 0.557 -0.627 -0.324 -0.433 -0.06 ], zero-one-loss: 0.019143117593436645\n",
      "4096-th itr. weight: [ 0.558 -0.627 -0.319 -0.436 -0.061], zero-one-loss: 0.016408386508659983\n",
      "8192-th itr. weight: [ 0.557 -0.638 -0.377 -0.37  -0.055], zero-one-loss: 0.020966271649954422\n",
      "16384-th itr. weight: [ 0.56  -0.636 -0.388 -0.359 -0.056], zero-one-loss: 0.022789425706472195\n",
      "32768-th itr. weight: [ 0.556 -0.629 -0.338 -0.423 -0.053], zero-one-loss: 0.009115770282588878\n",
      "65536-th itr. weight: [ 0.558 -0.631 -0.343 -0.411 -0.06 ], zero-one-loss: 0.01276207839562443\n",
      "Normalized weights at convergence is [ 0.555 -0.636 -0.39  -0.363 -0.054]\n",
      "Test Count: 275\n",
      "Misclassified: 3\n",
      "Test Accuracy: 98.91%\n"
     ]
    }
   ],
   "source": [
    "df = pd.read_csv(data_file, header=None)\n",
    "num_features = df.columns.shape[0] - 1\n",
    "X_train, X_test, y_train, y_test = train_test_split(df[list(range(4))].to_numpy(), df[4].add(0.1).astype(np.int).to_numpy(), test_size=0.2)\n",
    "\n",
    "# Augmenting the data and mapping labels {0, 1} to {-1, +1}\n",
    "X_train = np.hstack((np.ones(X_train.shape[0]).reshape(-1, 1), X_train))\n",
    "y_train = y_train * 2 - 1\n",
    "\n",
    "X_test = np.hstack((np.ones(X_test.shape[0]).reshape(-1, 1), X_test))\n",
    "y_test = y_test * 2 - 1\n",
    "\n",
    "# result data need to retrieve from model\n",
    "zero_one_loss = []\n",
    "itr_num = []\n",
    "count_misclassified = []\n",
    "tr_confusion_matrix = None\n",
    "ts_confusion_matrix = None\n",
    "weights = None\n",
    "\n",
    "# perceptron learning\n",
    "W = np.random.randn(X_train.shape[1])\n",
    "\n",
    "converged = False\n",
    "k = 0\n",
    "sampling_idx = 1\n",
    "\n",
    "while k < max_itr and not converged:\n",
    "    Z = np.multiply(np.dot(X_train, W), y_train)\n",
    "\n",
    "    idx_misclassified = np.argwhere(Z <= 0).reshape(-1)\n",
    "    if k == sampling_idx:\n",
    "        sampling_idx *= 2\n",
    "        zero_one_loss.append(idx_misclassified.shape[0] / Z.shape[0])\n",
    "        count_misclassified.append(idx_misclassified.shape[0])\n",
    "        itr_num.append(k)\n",
    "        print(\"{}-th itr. weight: {}, zero-one-loss: {}\".format(k, np.round(W / np.linalg.norm(W),3), zero_one_loss[-1]))\n",
    "\n",
    "    converged = True\n",
    "\n",
    "    for j in idx_misclassified:\n",
    "        W = W + y_train[j] * X_train[j]\n",
    "        converged = False\n",
    "    k += 1\n",
    "\n",
    "norm_W = W / np.linalg.norm(W)\n",
    "print(\"Normalized weights at convergence is {}\".format(np.round(norm_W,3)))\n",
    "\n",
    "weights = norm_W\n",
    "\n",
    "# final loss\n",
    "Z = np.multiply(np.dot(X_train,W), y_train)\n",
    "idx_misclassified = np.argwhere(Z <= 0).reshape(-1)\n",
    "zero_one_loss.append(idx_misclassified.shape[0] / Z.shape[0])\n",
    "count_misclassified.append(idx_misclassified.shape[0])\n",
    "itr_num.append(k)\n",
    "\n",
    "# building confusion matrix for train data\n",
    "Y_pred = np.dot(X_train,W)\n",
    "Y_Y_pred = np.multiply(y_train, Y_pred)\n",
    "true_idx = np.where(Y_Y_pred > 0)\n",
    "neg_idx = np.where(Y_Y_pred < 0)\n",
    "tp = np.where(y_train[true_idx]*Y_pred[true_idx]*Y_pred[true_idx] > 0)[0].shape[0]\n",
    "fp = np.where(y_train[neg_idx]*Y_pred[neg_idx]*Y_pred[neg_idx] > 0)[0].shape[0]\n",
    "fn = np.where(y_train[neg_idx]*Y_pred[neg_idx]*Y_pred[neg_idx] < 0)[0].shape[0]\n",
    "tn = np.where(y_train[true_idx]*Y_pred[true_idx]*Y_pred[true_idx] < 0)[0].shape[0]\n",
    "tr_confusion_matrix = np.array([[tp, fp], [fn, tn]])\n",
    "\n",
    "# building confusion matrix for test data\n",
    "Y_pred = np.dot(X_test,W)\n",
    "Y_Y_pred = np.multiply(y_test, Y_pred)\n",
    "true_idx = np.where(Y_Y_pred > 0)\n",
    "neg_idx = np.where(Y_Y_pred < 0)\n",
    "tp = np.where(y_test[true_idx]*Y_pred[true_idx]*Y_pred[true_idx] > 0)[0].shape[0]\n",
    "fp = np.where(y_test[neg_idx]*Y_pred[neg_idx]*Y_pred[neg_idx] > 0)[0].shape[0]\n",
    "fn = np.where(y_test[neg_idx]*Y_pred[neg_idx]*Y_pred[neg_idx] < 0)[0].shape[0]\n",
    "tn = np.where(y_test[true_idx]*Y_pred[true_idx]*Y_pred[true_idx] < 0)[0].shape[0]\n",
    "ts_confusion_matrix = np.array([[tp, fp], [fn, tn]])\n",
    "\n",
    "# finding accuracy on test data\n",
    "Z = np.multiply(np.dot(X_test, W), y_test)\n",
    "num_misclassified = np.argwhere(Z <= 0).reshape(-1).shape[0]\n",
    "accuracy = round(100 * (1 - num_misclassified/y_test.shape[0]),2)\n",
    "print(\"Test Count: {}\\nMisclassified: {}\\nTest Accuracy: {}%\".format(y_test.shape[0], num_misclassified, accuracy))"
   ]
  },
  {
   "cell_type": "code",
   "execution_count": 3,
   "metadata": {},
   "outputs": [
    {
     "data": {
      "image/png": "[encoded data removed]",
      "text/plain": [
       "<Figure size 1440x360 with 3 Axes>"
      ]
     },
     "metadata": {
      "needs_background": "light"
     },
     "output_type": "display_data"
    }
   ],
   "source": [
    "loss = np.array(zero_one_loss)\n",
    "error = np.array(count_misclassified)\n",
    "accuracy_percent = (1-loss)*100\n",
    "\n",
    "fig, ax = plt.subplots(nrows=1, ncols=3)\n",
    "fig.set_size_inches(20,5)\n",
    "fig.suptitle('Loss, classification error, classification accuracy')\n",
    "\n",
    "ax[0].step(itr_num, loss, 'k-', label='loss')\n",
    "ax[0].set_ylabel('zero-one loss')\n",
    "ax[0].set_xlabel('iteration')\n",
    "\n",
    "ax[1].step(itr_num, error, 'r-', label='error')\n",
    "ax[1].set_ylabel('classification error(count)')\n",
    "ax[1].set_xlabel('iteration')\n",
    "\n",
    "ax[2].step(itr_num, accuracy_percent, 'b-', label='accuracy')\n",
    "ax[2].set_ylabel('accuracy %')\n",
    "ax[2].set_xlabel('iteration')\n",
    "\n",
    "\n",
    "ax[0].legend()\n",
    "ax[1].legend()\n",
    "ax[2].legend()\n",
    "plt.show()"
   ]
  },
  {
   "cell_type": "markdown",
   "metadata": {},
   "source": [
    "### Confusion Matrix\n",
    "\n",
    "True positive: Actual positive, predicted positive\n",
    "\n",
    "True negative: Actual negative, predicted negative\n",
    "\n",
    "False positive: Actual negative, predicted positive\n",
    "\n",
    "False negative: Actual positive, predicted negative"
   ]
  },
  {
   "cell_type": "code",
   "execution_count": 4,
   "metadata": {},
   "outputs": [
    {
     "data": {
      "text/plain": [
       "<matplotlib.axes._subplots.AxesSubplot at 0x23a1f1dec50>"
      ]
     },
     "execution_count": 4,
     "metadata": {},
     "output_type": "execute_result"
    },
    {
     "data": {
      "image/png": "[encoded data removed]",
      "text/plain": [
       "<Figure size 720x360 with 2 Axes>"
      ]
     },
     "metadata": {
      "needs_background": "light"
     },
     "output_type": "display_data"
    }
   ],
   "source": [
    "xtick_label = ['actual +1', 'actual -1']\n",
    "ytick_label = ['predicted +1', 'predicted -1']\n",
    "\n",
    "fig, ax = plt.subplots(nrows=1, ncols=2)\n",
    "fig.set_size_inches(10,5)\n",
    "fig.suptitle('Confusion matrix for test and train dataset respectively')\n",
    "\n",
    "sns.heatmap(tr_confusion_matrix, annot=True, ax=ax[0], xticklabels=xtick_label, yticklabels=ytick_label, fmt='d', cbar=False)\n",
    "sns.heatmap(ts_confusion_matrix, annot=True, ax=ax[1], xticklabels=xtick_label, yticklabels=ytick_label, fmt='d', cbar=False)"
   ]
  },
  {
   "cell_type": "code",
   "execution_count": 5,
   "metadata": {},
   "outputs": [
    {
     "name": "stdout",
     "output_type": "stream",
     "text": [
      "Normalized weights: [ 0.55547296 -0.63619058 -0.38969641 -0.36315413 -0.0544713 ]\n"
     ]
    }
   ],
   "source": [
    "print(\"Normalized weights: {}\".format(weights))"
   ]
  },
  {
   "cell_type": "markdown",
   "metadata": {},
   "source": [
    "### Question 2(with normalization)\n",
    "\n",
    "Normalize the training data using MinMaxScalar. Train the perceptron model on normalized data and use the model to classify test data. Compare this model with the above model."
   ]
  },
  {
   "cell_type": "code",
   "execution_count": 6,
   "metadata": {},
   "outputs": [
    {
     "name": "stdout",
     "output_type": "stream",
     "text": [
      "1-th itr. weight: [-0.642 -0.431 -0.435 -0.169 -0.431], zero-one-loss: 0.43846855059252504\n",
      "2-th itr. weight: [-0.39  -0.682 -0.55  -0.014 -0.284], zero-one-loss: 0.43846855059252504\n",
      "4-th itr. weight: [-0.391 -0.681 -0.549 -0.013 -0.286], zero-one-loss: 0.43846855059252504\n",
      "8-th itr. weight: [-0.056 -0.835 -0.52   0.061 -0.161], zero-one-loss: 0.43846855059252504\n",
      "16-th itr. weight: [ 0.463 -0.796 -0.341  0.144  0.123], zero-one-loss: 0.14858705560619873\n",
      "32-th itr. weight: [ 0.437 -0.822 -0.357  0.016  0.08 ], zero-one-loss: 0.195077484047402\n",
      "64-th itr. weight: [ 0.546 -0.753 -0.263 -0.235  0.099], zero-one-loss: 0.07748404740200547\n",
      "128-th itr. weight: [ 0.561 -0.633 -0.297 -0.437  0.074], zero-one-loss: 0.023701002734731084\n",
      "256-th itr. weight: [ 0.582 -0.532 -0.383 -0.478  0.051], zero-one-loss: 0.015496809480401094\n",
      "512-th itr. weight: [ 0.603 -0.458 -0.431 -0.491 -0.004], zero-one-loss: 0.009115770282588878\n",
      "1024-th itr. weight: [ 0.614 -0.431 -0.443 -0.49  -0.032], zero-one-loss: 0.009115770282588878\n",
      "2048-th itr. weight: [ 0.611 -0.433 -0.446 -0.489 -0.033], zero-one-loss: 0.008204193254329991\n",
      "4096-th itr. weight: [ 0.608 -0.434 -0.447 -0.49  -0.034], zero-one-loss: 0.016408386508659983\n",
      "8192-th itr. weight: [ 0.609 -0.434 -0.449 -0.488 -0.033], zero-one-loss: 0.013673655423883319\n",
      "16384-th itr. weight: [ 0.611 -0.431 -0.446 -0.492 -0.032], zero-one-loss: 0.01276207839562443\n",
      "32768-th itr. weight: [ 0.617 -0.429 -0.442 -0.488 -0.026], zero-one-loss: 0.015496809480401094\n",
      "65536-th itr. weight: [ 0.613 -0.431 -0.449 -0.486 -0.027], zero-one-loss: 0.01276207839562443\n",
      "Normalized weights at convergence is [ 0.616 -0.427 -0.446 -0.488 -0.026]\n",
      "Test Count: 275\n",
      "Misclassified: 3\n",
      "Test Accuracy: 98.91%\n"
     ]
    }
   ],
   "source": [
    "df = pd.read_csv(data_file, header=None)\n",
    "num_features = df.columns.shape[0] - 1\n",
    "X_train, X_test, y_train, y_test = train_test_split(df[list(range(4))].to_numpy(), df[4].add(0.1).astype(np.int).to_numpy(), test_size=0.2)\n",
    "\n",
    "# Transforming data\n",
    "scaler = MinMaxScaler()\n",
    "X_train = scaler.fit_transform(X_train)\n",
    "X_test = scaler.transform(X_test)\n",
    "\n",
    "# Augmenting the data and mapping labels {0, 1} to {-1, +1}\n",
    "X_train = np.hstack((np.ones(X_train.shape[0]).reshape(-1, 1), X_train))\n",
    "y_train = y_train * 2 - 1\n",
    "\n",
    "X_test = np.hstack((np.ones(X_test.shape[0]).reshape(-1, 1), X_test))\n",
    "y_test = y_test * 2 - 1\n",
    "\n",
    "# result data need to retrieve from model\n",
    "zero_one_loss = []\n",
    "itr_num = []\n",
    "count_misclassified = []\n",
    "tr_confusion_matrix = None\n",
    "ts_confusion_matrix = None\n",
    "weights = None\n",
    "\n",
    "# perceptron learning\n",
    "W = np.random.randn(X_train.shape[1])\n",
    "\n",
    "converged = False\n",
    "k = 0\n",
    "sampling_idx = 1\n",
    "\n",
    "while k < max_itr and not converged:\n",
    "    Z = np.multiply(np.dot(X_train, W), y_train)\n",
    "\n",
    "    idx_misclassified = np.argwhere(Z <= 0).reshape(-1)\n",
    "    if k == sampling_idx:\n",
    "        sampling_idx *= 2\n",
    "        zero_one_loss.append(idx_misclassified.shape[0] / Z.shape[0])\n",
    "        count_misclassified.append(idx_misclassified.shape[0])\n",
    "        itr_num.append(k)\n",
    "        print(\"{}-th itr. weight: {}, zero-one-loss: {}\".format(k, np.round(W / np.linalg.norm(W),3), zero_one_loss[-1]))\n",
    "\n",
    "    converged = True\n",
    "\n",
    "    for j in idx_misclassified:\n",
    "        W = W + y_train[j] * X_train[j]\n",
    "        converged = False\n",
    "    k += 1\n",
    "\n",
    "norm_W = W / np.linalg.norm(W)\n",
    "print(\"Normalized weights at convergence is {}\".format(np.round(norm_W,3)))\n",
    "\n",
    "weights = norm_W\n",
    "\n",
    "# final loss\n",
    "Z = np.multiply(np.dot(X_train,W), y_train)\n",
    "idx_misclassified = np.argwhere(Z <= 0).reshape(-1)\n",
    "zero_one_loss.append(idx_misclassified.shape[0] / Z.shape[0])\n",
    "count_misclassified.append(idx_misclassified.shape[0])\n",
    "itr_num.append(k)\n",
    "\n",
    "# building confusion matrix for train data\n",
    "Y_pred = np.dot(X_train,W)\n",
    "Y_Y_pred = np.multiply(y_train, Y_pred)\n",
    "true_idx = np.where(Y_Y_pred > 0)\n",
    "neg_idx = np.where(Y_Y_pred < 0)\n",
    "tp = np.where(y_train[true_idx]*Y_pred[true_idx]*Y_pred[true_idx] > 0)[0].shape[0]\n",
    "fp = np.where(y_train[neg_idx]*Y_pred[neg_idx]*Y_pred[neg_idx] > 0)[0].shape[0]\n",
    "fn = np.where(y_train[neg_idx]*Y_pred[neg_idx]*Y_pred[neg_idx] < 0)[0].shape[0]\n",
    "tn = np.where(y_train[true_idx]*Y_pred[true_idx]*Y_pred[true_idx] < 0)[0].shape[0]\n",
    "tr_confusion_matrix = np.array([[tp, fp], [fn, tn]])\n",
    "\n",
    "# building confusion matrix for test data\n",
    "Y_pred = np.dot(X_test,W)\n",
    "Y_Y_pred = np.multiply(y_test, Y_pred)\n",
    "true_idx = np.where(Y_Y_pred > 0)\n",
    "neg_idx = np.where(Y_Y_pred < 0)\n",
    "tp = np.where(y_test[true_idx]*Y_pred[true_idx]*Y_pred[true_idx] > 0)[0].shape[0]\n",
    "fp = np.where(y_test[neg_idx]*Y_pred[neg_idx]*Y_pred[neg_idx] > 0)[0].shape[0]\n",
    "fn = np.where(y_test[neg_idx]*Y_pred[neg_idx]*Y_pred[neg_idx] < 0)[0].shape[0]\n",
    "tn = np.where(y_test[true_idx]*Y_pred[true_idx]*Y_pred[true_idx] < 0)[0].shape[0]\n",
    "ts_confusion_matrix = np.array([[tp, fp], [fn, tn]])\n",
    "\n",
    "# finding accuracy on test data\n",
    "Z = np.multiply(np.dot(X_test, W), y_test)\n",
    "num_misclassified = np.argwhere(Z <= 0).reshape(-1).shape[0]\n",
    "accuracy = round(100 * (1 - num_misclassified/y_test.shape[0]),2)\n",
    "print(\"Test Count: {}\\nMisclassified: {}\\nTest Accuracy: {}%\".format(y_test.shape[0], num_misclassified, accuracy))"
   ]
  },
  {
   "cell_type": "code",
   "execution_count": 7,
   "metadata": {},
   "outputs": [
    {
     "data": {
      "image/png": "[encoded data removed]",
      "text/plain": [
       "<Figure size 1440x360 with 3 Axes>"
      ]
     },
     "metadata": {
      "needs_background": "light"
     },
     "output_type": "display_data"
    }
   ],
   "source": [
    "loss = np.array(zero_one_loss)\n",
    "error = np.array(count_misclassified)\n",
    "accuracy_percent = (1-loss)*100\n",
    "\n",
    "fig, ax = plt.subplots(nrows=1, ncols=3)\n",
    "fig.set_size_inches(20,5)\n",
    "fig.suptitle('Loss, classification error, classification accuracy')\n",
    "\n",
    "ax[0].step(itr_num, loss, 'k-', label='loss')\n",
    "ax[0].set_ylabel('zero-one loss')\n",
    "ax[0].set_xlabel('iteration')\n",
    "\n",
    "ax[1].step(itr_num, error, 'r-', label='error')\n",
    "ax[1].set_ylabel('classification error(count)')\n",
    "ax[1].set_xlabel('iteration')\n",
    "\n",
    "ax[2].step(itr_num, accuracy_percent, 'b-', label='accuracy')\n",
    "ax[2].set_ylabel('accuracy %')\n",
    "ax[2].set_xlabel('iteration')\n",
    "\n",
    "\n",
    "ax[0].legend()\n",
    "ax[1].legend()\n",
    "ax[2].legend()\n",
    "plt.show()"
   ]
  },
  {
   "cell_type": "code",
   "execution_count": 8,
   "metadata": {},
   "outputs": [
    {
     "data": {
      "text/plain": [
       "<matplotlib.axes._subplots.AxesSubplot at 0x23a1ef18d68>"
      ]
     },
     "execution_count": 8,
     "metadata": {},
     "output_type": "execute_result"
    },
    {
     "data": {
      "image/png": "[encoded data removed]",
      "text/plain": [
       "<Figure size 720x360 with 2 Axes>"
      ]
     },
     "metadata": {
      "needs_background": "light"
     },
     "output_type": "display_data"
    }
   ],
   "source": [
    "xtick_label = ['actual +1', 'actual -1']\n",
    "ytick_label = ['predicted +1', 'predicted -1']\n",
    "\n",
    "fig, ax = plt.subplots(nrows=1, ncols=2)\n",
    "fig.set_size_inches(10,5)\n",
    "fig.suptitle('Confusion matrix for test and train dataset respectively')\n",
    "\n",
    "sns.heatmap(tr_confusion_matrix, annot=True, ax=ax[0], xticklabels=xtick_label, yticklabels=ytick_label, fmt='d', cbar=False)\n",
    "sns.heatmap(ts_confusion_matrix, annot=True, ax=ax[1], xticklabels=xtick_label, yticklabels=ytick_label, fmt='d', cbar=False)"
   ]
  },
  {
   "cell_type": "code",
   "execution_count": 9,
   "metadata": {},
   "outputs": [
    {
     "name": "stdout",
     "output_type": "stream",
     "text": [
      "Normalized weights: [ 0.61629757 -0.42722564 -0.44553487 -0.4883331  -0.02617284]\n"
     ]
    }
   ],
   "source": [
    "print(\"Normalized weights: {}\".format(weights))"
   ]
  },
  {
   "cell_type": "markdown",
   "metadata": {},
   "source": [
    "### Conclusion\n",
    "\n",
    "The results are almost same for both of the cases [normalized and un-normalized]."
   ]
  }
 ],
 "metadata": {
  "kernelspec": {
   "display_name": "Python 3",
   "language": "python",
   "name": "python3"
  },
  "language_info": {
   "codemirror_mode": {
    "name": "ipython",
    "version": 3
   },
   "file_extension": ".py",
   "mimetype": "text/x-python",
   "name": "python",
   "nbconvert_exporter": "python",
   "pygments_lexer": "ipython3",
   "version": "3.7.3"
  }
 },
 "nbformat": 4,
 "nbformat_minor": 2
}
