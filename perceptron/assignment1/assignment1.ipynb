{
 "cells": [
  {
   "cell_type": "code",
   "execution_count": 32,
   "metadata": {
    "pycharm": {
     "is_executing": false,
     "name": "#%%\n"
    }
   },
   "outputs": [],
   "source": [
    "import numpy as np\n",
    "import matplotlib.pyplot as plt\n",
    "import pandas as pd"
   ]
  },
  {
   "cell_type": "code",
   "execution_count": 72,
   "metadata": {
    "pycharm": {
     "is_executing": false,
     "name": "#%%\n"
    }
   },
   "outputs": [
    {
     "name": "stdout",
     "output_type": "stream",
     "text": [
      "(960,)\n",
      "(960, 2)\n"
     ]
    }
   ],
   "source": [
    "df = pd.read_csv(\"./Datasets-Question1/dataset5/Train5.csv\", header=None)\n",
    "tr_labels = df[2].add(0.1).astype(np.int).to_numpy()\n",
    "tr_data = df[[0,1]].to_numpy()\n",
    "print(tr_labels.shape)\n",
    "print(tr_data.shape)\n"
   ]
  },
  {
   "cell_type": "markdown",
   "metadata": {
    "pycharm": {
     "name": "#%% md\n"
    }
   },
   "source": [
    "## Data Visualization"
   ]
  },
  {
   "cell_type": "code",
   "execution_count": 73,
   "metadata": {
    "pycharm": {
     "name": "#%%\n"
    }
   },
   "outputs": [
    {
     "data": {
      "image/png": "[encoded data removed]",
      "text/plain": [
       "<Figure size 432x288 with 1 Axes>"
      ]
     },
     "metadata": {
      "needs_background": "light"
     },
     "output_type": "display_data"
    }
   ],
   "source": [
    "# configuration\n",
    "color = ['red' , 'blue']\n",
    "marker = ['.', '+']\n",
    "\n",
    "ax = plt.axes()\n",
    "\n",
    "for x , y in zip(tr_data, tr_labels):\n",
    "    ax.scatter(x[0], x[1], c=color[y], marker=marker[y])\n",
    "\n",
    "plt.show()"
   ]
  },
  {
   "cell_type": "markdown",
   "metadata": {},
   "source": [
    "## Perceptron Learning Algorithm"
   ]
  },
  {
   "cell_type": "code",
   "execution_count": 74,
   "metadata": {},
   "outputs": [
    {
     "name": "stdout",
     "output_type": "stream",
     "text": [
      "Weights at 0-th update is [1. 1. 1.]\n",
      "Weights at 1200-th update is [ 89.         183.42369098 665.19407303]\n",
      "Weights at 1500-th update is [141.         200.83035679 436.83771612]\n",
      "Weights at 2500-th update is [-17.         -31.96953217  97.08412998]\n",
      "Weights at 3700-th update is [ 13.          71.08199294 801.94630587]\n",
      "Weights at 4100-th update is [127.         192.27330239 416.0035696 ]\n",
      "Weights at 4300-th update is [123.         136.63417365 319.51844154]\n",
      "Weights at 4400-th update is [119.         108.94324614 273.32430343]\n",
      "Weights at 4500-th update is [111.          84.4307294  230.24833383]\n",
      "Weights at 4800-th update is [ 55.          34.77221179 127.66210119]\n",
      "Weights at 5000-th update is [25.         17.46986347 45.3631009 ]\n",
      "Weights at 5300-th update is [ 57.          43.21633103 121.93174021]\n",
      "Weights at 6600-th update is [-35.         -42.15984192 315.2172071 ]\n",
      "Weights at 6900-th update is [15.          3.27200347 71.71051136]\n",
      "Weights at 8200-th update is [153.         200.79958931 605.94926481]\n",
      "Weights at 8400-th update is [173.         201.82372424 461.68426309]\n",
      "Weights at 8700-th update is [157.         124.68351177 325.02512701]\n",
      "Weights at 9000-th update is [105.          76.42107653 216.74391275]\n",
      "Weights at 9100-th update is [ 85.          58.21162832 184.58400531]\n",
      "Weights at 13000-th update is [213.         208.31126682 655.56311088]\n",
      "Weights at 13100-th update is [233.         232.7469612  563.41986544]\n",
      "Weights at 13800-th update is [141.         106.74800067 283.50135209]\n",
      "Weights at 14000-th update is [105.          78.61566132 211.26363192]\n",
      "Weights at 15800-th update is [177.         230.65934257 579.61622212]\n",
      "Weights at 16200-th update is [173.        145.6508762 371.9498818]\n",
      "Weights at 16900-th update is [ 53.          34.3656817  118.18335975]\n",
      "Weights at 18400-th update is [235.         177.90850592 476.96927996]\n",
      "Weights at 19500-th update is [39.         27.08924896 77.33847448]\n",
      "Weights at 19700-th update is [11.          2.8172855  62.79505573]\n",
      "Weights at 20600-th update is [165.         132.19265084 832.4336319 ]\n",
      "Weights at 21200-th update is [205.         155.07839553 413.30737356]\n",
      "Weights at 21400-th update is [169.         126.49918697 341.18196564]\n",
      "Weights at 21800-th update is [ 97.          71.00182313 196.49577397]\n",
      "Weights at 23500-th update is [101.         172.76754176 681.30372284]\n",
      "Weights at 24300-th update is [109.          80.33001378 219.24290479]\n",
      "Weights at 24800-th update is [-15.         -32.67563961  94.14909036]\n",
      "Weights at 25900-th update is [127.         135.57062332 752.02205966]\n",
      "Weights at 26800-th update is [115.          87.2941907  233.49666511]\n",
      "Weights at 28400-th update is [151.         149.9577909  741.32227258]\n",
      "Weights at 28600-th update is [203.         227.78867896 532.9409171 ]\n",
      "Weights at 29500-th update is [ 83.          56.01979303 179.25872904]\n",
      "Weights at 31000-th update is [ 39.          -3.83825496 850.08966999]\n",
      "Weights at 31300-th update is [139.         166.00049249 493.34371836]\n",
      "Weights at 31500-th update is [151.         149.86781391 364.30035835]\n",
      "Weights at 32000-th update is [ 83.          57.89092292 168.06188551]\n",
      "Weights at 33000-th update is [ 77.          83.84576363 197.22916795]\n",
      "Weights at 33200-th update is [ 53.          34.88329928 120.38329349]\n",
      "Weights at 33300-th update is [37.         22.45447979 82.16262652]\n",
      "Weights at 34400-th update is [-83.         -30.78897483 873.4006773 ]\n",
      "Weights at 34900-th update is [101.         164.56167236 356.53403988]\n",
      "Weights at 35500-th update is [49.         35.67897789 96.8122537 ]\n",
      "Weights at 36800-th update is [265.         204.80866933 542.0804834 ]\n",
      "Weights at 36900-th update is [249.         187.97553807 504.75321627]\n",
      "Weights at 37500-th update is [141.         106.36376614 286.73835094]\n",
      "Weights at 37800-th update is [ 85.          57.48518212 183.29896104]\n",
      "Weights at 38100-th update is [33.         23.34855079 71.05580385]\n",
      "Weights at 38200-th update is [ 7.          0.5971505  48.04958233]\n",
      "Weights at 39100-th update is [287.         240.24753464 618.83538263]\n",
      "Weights at 39400-th update is [247.         186.64264511 499.11365112]\n",
      "Weights at 39600-th update is [211.         159.13819622 426.56744254]\n",
      "Weights at 40000-th update is [139.         105.03087319 281.0987858 ]\n",
      "Weights at 40400-th update is [ 67.          46.08419715 138.19684541]\n",
      "Weights at 40900-th update is [39.         27.73132059 85.3897642 ]\n",
      "Weights at 41000-th update is [17.          9.95986442 56.12606506]\n",
      "Weights at 42000-th update is [187.         180.57878988 732.31725487]\n",
      "Weights at 42400-th update is [215.         175.40035699 459.31853892]\n",
      "Weights at 43700-th update is [ 47.          41.8765523  108.40985748]\n",
      "Weights at 44800-th update is [179.         121.50877719 808.68813422]\n",
      "Weights at 45100-th update is [239.         205.56345709 528.05039118]\n",
      "Weights at 45200-th update is [231.         183.92217995 483.71248303]\n",
      "Weights at 45300-th update is [219.         164.79938195 442.8557958 ]\n",
      "Weights at 45500-th update is [183.         138.1965078  369.93334764]\n",
      "Weights at 45700-th update is [147.         110.69205891 297.38713906]\n",
      "Weights at 47600-th update is [-51.         -11.60836212 798.42034062]\n",
      "Weights at 50000-th update is [ 67.          37.15088871 751.65272889]\n",
      "Weights at 51300-th update is [-39.         -70.51224684 116.84290881]\n",
      "Weights at 51900-th update is [-101.         -169.01121335  549.2319859 ]\n",
      "Weights at 52200-th update is [ -1.           0.82753411 192.48603427]\n",
      "Weights at 53500-th update is [253.         220.6462318  566.59158185]\n",
      "Weights at 54100-th update is [165.         124.55992656 331.97810896]\n",
      "Weights at 54300-th update is [129.          96.15390294 259.80813995]\n",
      "Weights at 55100-th update is [43.         35.49454588 95.48317629]\n",
      "Weights at 56600-th update is [221.         164.86918757 452.11408485]\n",
      "Weights at 57200-th update is [113.          83.25741564 234.09921952]\n",
      "Weights at 57600-th update is [37.         21.06332707 97.54811084]\n",
      "Weights at 58900-th update is [ -3.          52.75725095 704.94088602]\n",
      "Weights at 59500-th update is [101.          97.80079535 241.33474069]\n",
      "Weights at 59600-th update is [ 93.          72.74323075 198.61638409]\n",
      "Weights at 61200-th update is [253.         191.63981569 513.18631703]\n",
      "Weights at 61800-th update is [145.         108.95328409 295.59225238]\n",
      "Weights at 62000-th update is [109.          81.62202013 223.00148269]\n",
      "Weights at 62100-th update is [ 93.          67.88579194 184.75279294]\n",
      "Weights at 63400-th update is [ -91.         -100.51171094  509.66101153]\n",
      "Weights at 64800-th update is [281.         258.48930075 660.96951496]\n",
      "Weights at 64900-th update is [277.         237.90311265 611.96639064]\n",
      "Weights at 65000-th update is [269.         215.18707584 568.04928316]\n",
      "Weights at 65200-th update is [241.         182.35492626 488.62611685]\n",
      "Weights at 66100-th update is [ 81.          58.20240489 160.5500617 ]\n",
      "Weights at 66300-th update is [ 37.          21.17751997 101.59578281]\n",
      "Weights at 67700-th update is [ 27.          71.87415203 735.59310788]\n",
      "Weights at 68100-th update is [119.         168.15112151 369.57760539]\n",
      "Weights at 68400-th update is [107.          86.57426044 230.59917541]\n",
      "Weights at 69700-th update is [287.         240.90156953 692.81132107]\n",
      "Weights at 70500-th update is [179.         134.26001974 361.66658396]\n",
      "Weights at 70700-th update is [143.         106.75557085 289.12037538]\n",
      "Weights at 70900-th update is [107.          79.69799117 216.46185453]\n",
      "Weights at 71200-th update is [ 55.          39.33318869 105.98521545]\n",
      "Weights at 72300-th update is [293.         228.46400661 605.50986478]\n",
      "Weights at 73100-th update is [153.         115.06180724 312.066615  ]\n",
      "Weights at 73500-th update is [ 81.          54.9448664  169.29937049]\n",
      "Weights at 74800-th update is [159.         136.60011899 798.09476071]\n",
      "Weights at 75100-th update is [219.         212.0567215  520.82342305]\n",
      "Weights at 75500-th update is [175.         131.1911927  354.83909941]\n",
      "Weights at 75700-th update is [139.         104.76150349 281.87209015]\n",
      "Weights at 75900-th update is [103.          76.55647853 209.65574101]\n",
      "Weights at 76300-th update is [21.          7.49254428 81.97200624]\n",
      "Weights at 76600-th update is [ 71.         65.6103948 164.0410985]\n",
      "Weights at 76700-th update is [ 59.          39.2615984  126.27049599]\n",
      "Weights at 76800-th update is [39.         23.42444553 93.59358196]\n",
      "Weights at 77000-th update is [ 7.          7.36741725 12.79831928]\n",
      "Weights at 78000-th update is [153.         146.79893099 733.48374748]\n",
      "Weights at 78800-th update is [137.         104.08189207 278.21784688]\n",
      "Weights at 80500-th update is [-43.          -2.48155777 945.34650587]\n",
      "Weights at 80800-th update is [ 59.         162.9306072  592.62143218]\n",
      "Weights at 80900-th update is [103.         195.93508311 495.15079734]\n",
      "Weights at 81000-th update is [123.         195.69566897 424.4387218 ]\n",
      "Weights at 81900-th update is [25.         16.65827007 51.01130925]\n",
      "Weights at 83100-th update is [303.         234.63834326 625.55483584]\n",
      "Weights at 83700-th update is [199.         150.89011213 403.8161933 ]\n",
      "Weights at 84100-th update is [127.          94.97963961 259.10001571]\n"
     ]
    },
    {
     "name": "stdout",
     "output_type": "stream",
     "text": [
      "Weights at 84300-th update is [ 91.          68.16198368 186.51604188]\n",
      "Weights at 84400-th update is [ 75.          53.95821925 148.49626744]\n",
      "Weights at 84700-th update is [-17.         -32.92285875 101.06346586]\n",
      "Weights at 86000-th update is [229.         172.80276738 463.5301808 ]\n",
      "Weights at 86400-th update is [157.         117.62068467 318.48232473]\n",
      "Weights at 86600-th update is [121.          91.36418039 245.47075437]\n",
      "Weights at 87100-th update is [33.         22.31363252 64.14806651]\n",
      "Weights at 88300-th update is [-21.          61.74878679 767.31615281]\n",
      "Weights at 88800-th update is [113.         152.27537474 337.31368485]\n",
      "Weights at 89500-th update is [  3.         -17.30161707  95.9362784 ]\n",
      "Weights at 90600-th update is [263.         220.54142687 570.35888034]\n",
      "Weights at 90900-th update is [223.         167.38340655 450.52483657]\n",
      "Weights at 91300-th update is [151.         114.17765825 304.67994025]\n",
      "Weights at 91500-th update is [115.          86.0453189  232.44222008]\n",
      "Weights at 91900-th update is [43.         30.48698344 88.96835851]\n",
      "Weights at 92100-th update is [ 7.          6.79022307 15.33049513]\n",
      "Weights at 92600-th update is [427.         442.15958845 533.82542021]\n",
      "Weights at 93300-th update is [ 35.         108.91740145 721.4823172 ]\n",
      "Weights at 93700-th update is [125.         173.02686893 383.4560731 ]\n",
      "Weights at 94100-th update is [101.          77.17818032 201.75563134]\n",
      "Weights at 95600-th update is [263.         226.02061665 574.16717306]\n",
      "Weights at 95900-th update is [223.         167.01411502 456.55126395]\n",
      "Weights at 96000-th update is [207.         156.37583495 416.91673996]\n",
      "Weights at 96700-th update is [ 83.          58.17602005 161.91237984]\n",
      "Weights at 96800-th update is [ 59.          37.57449631 135.17807494]\n",
      "Weights at 98100-th update is [ 21.          47.44512654 947.44895895]\n",
      "Weights at 98400-th update is [121.         217.28387399 590.70300731]\n",
      "Weights at 98800-th update is [137.         151.4060856  360.24766181]\n",
      "Weights at 99100-th update is [113.          85.20449808 228.18779117]\n",
      "Weights at 99300-th update is [ 77.          53.11575026 157.83138157]\n",
      "Weights at 99400-th update is [ 61.          44.05400142 118.02155423]\n",
      "Weights at 99500-th update is [41.         30.13342705 84.59120924]\n",
      "Weights at convergence is [267.         208.26599425 756.80596612]\n"
     ]
    }
   ],
   "source": [
    "# augmenting the training data\n",
    "X = np.hstack((np.ones(tr_data.shape[0]).reshape(-1,1), tr_data))\n",
    "Y = tr_labels*2-1\n",
    "\n",
    "# print(X)\n",
    "\n",
    "# initializing the weights\n",
    "W = np.array([1,1,1], dtype=np.float)\n",
    "\n",
    "# learning\n",
    "converged = False\n",
    "maxiter = 100000\n",
    "k = 0\n",
    "while k < maxiter and not converged:\n",
    "    if k % 100 == 0:\n",
    "        print(\"Weights at {}-th update is {}\".format(k, W))\n",
    "    Z = np.multiply(np.dot(X, W), Y)\n",
    "    converged = True\n",
    "    for j in np.argwhere(Z <= 0).reshape(-1):\n",
    "        W = W + Y[j]*X[j]\n",
    "        k += 1\n",
    "        converged = False\n",
    "\n",
    "print(\"Weights at convergence is {}\".format(W))"
   ]
  },
  {
   "cell_type": "code",
   "execution_count": 78,
   "metadata": {},
   "outputs": [
    {
     "name": "stdout",
     "output_type": "stream",
     "text": [
      "[-1.0602054796001297, 2.6515929850227518]\n",
      "[-0.06103975622542148, -1.0824923243877704]\n"
     ]
    },
    {
     "data": {
      "image/png": "[encoded data removed]",
      "text/plain": [
       "<Figure size 432x288 with 1 Axes>"
      ]
     },
     "metadata": {
      "needs_background": "light"
     },
     "output_type": "display_data"
    }
   ],
   "source": [
    "def get_y(x, W):\n",
    "    return -1 * (W[0] + W[1]*x) / W[2]\n",
    "\n",
    "# configuration\n",
    "color = ['red' , 'blue']\n",
    "marker = ['.', '+']\n",
    "\n",
    "ax = plt.axes()\n",
    "\n",
    "for x , y in zip(tr_data, tr_labels):\n",
    "    ax.scatter(x[0], x[1], c=color[y], marker=marker[y])\n",
    "\n",
    "    \n",
    "# drawing line \n",
    "# get two points \n",
    "\n",
    "x_coord = [np.min(X[:,1]) , np.max(X[:,1])]\n",
    "y_coord = [get_y(x,W) for x in x_coord]\n",
    "\n",
    "print(x_coord)\n",
    "print(y_coord)\n",
    "\n",
    "ax.plot(x_coord, y_coord)\n",
    "\n",
    "plt.show()"
   ]
  },
  {
   "cell_type": "code",
   "execution_count": null,
   "metadata": {},
   "outputs": [],
   "source": []
  },
  {
   "cell_type": "code",
   "execution_count": null,
   "metadata": {},
   "outputs": [],
   "source": []
  }
 ],
 "metadata": {
  "kernelspec": {
   "display_name": "Python 3",
   "language": "python",
   "name": "python3"
  },
  "language_info": {
   "codemirror_mode": {
    "name": "ipython",
    "version": 3
   },
   "file_extension": ".py",
   "mimetype": "text/x-python",
   "name": "python",
   "nbconvert_exporter": "python",
   "pygments_lexer": "ipython3",
   "version": "3.7.3"
  },
  "pycharm": {
   "stem_cell": {
    "cell_type": "raw",
    "metadata": {
     "collapsed": false
    },
    "source": []
   }
  }
 },
 "nbformat": 4,
 "nbformat_minor": 1
}
