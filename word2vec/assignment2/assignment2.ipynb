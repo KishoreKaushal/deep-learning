{
 "cells": [
  {
   "cell_type": "markdown",
   "metadata": {
    "colab_type": "text",
    "id": "uAkYlLVv-olC"
   },
   "source": [
    "# Text Classification"
   ]
  },
  {
   "cell_type": "markdown",
   "metadata": {
    "colab_type": "text",
    "id": "cR-qGVUn-vp_"
   },
   "source": [
    "#### 20-newgroup dataset is a collection of newsgroups in 20 topics. Fetch 20-newsgroup dataset."
   ]
  },
  {
   "cell_type": "code",
   "execution_count": 1,
   "metadata": {},
   "outputs": [
    {
     "name": "stdout",
     "output_type": "stream",
     "text": [
      "No. of CPU cores: 12\n"
     ]
    },
    {
     "name": "stderr",
     "output_type": "stream",
     "text": [
      "Using TensorFlow backend.\n"
     ]
    }
   ],
   "source": [
    "import string\n",
    "import copy\n",
    "import numpy as np\n",
    "import matplotlib.pyplot as plt\n",
    "from sklearn.manifold import TSNE\n",
    "from sklearn.model_selection import train_test_split\n",
    "from sklearn.model_selection import ShuffleSplit\n",
    "from sklearn.model_selection import learning_curve\n",
    "from sklearn.svm import SVC\n",
    "\n",
    "import tensorflow as tf\n",
    "tf.keras.backend.clear_session()  # For easy reset of notebook state.\n",
    "from tensorflow import keras\n",
    "from keras.utils import to_categorical\n",
    "\n",
    "import multiprocessing\n",
    "\n",
    "cores = multiprocessing.cpu_count()\n",
    "print(\"No. of CPU cores: {}\".format(cores))"
   ]
  },
  {
   "cell_type": "code",
   "execution_count": 2,
   "metadata": {},
   "outputs": [
    {
     "name": "stderr",
     "output_type": "stream",
     "text": [
      "[nltk_data] Downloading package stopwords to\n",
      "[nltk_data]     /home/kaushal/nltk_data...\n",
      "[nltk_data]   Package stopwords is already up-to-date!\n"
     ]
    },
    {
     "data": {
      "text/plain": [
       "True"
      ]
     },
     "execution_count": 2,
     "metadata": {},
     "output_type": "execute_result"
    }
   ],
   "source": [
    "import nltk\n",
    "from nltk.tokenize import RegexpTokenizer\n",
    "from nltk.corpus import stopwords\n",
    "nltk.download('stopwords')"
   ]
  },
  {
   "cell_type": "code",
   "execution_count": 3,
   "metadata": {
    "colab": {
     "base_uri": "https://localhost:8080/",
     "height": 70
    },
    "colab_type": "code",
    "id": "V8b6X4t-97On",
    "outputId": "0ce4bf1c-15e7-46bd-9cc8-cce7ab38648a"
   },
   "outputs": [
    {
     "name": "stdout",
     "output_type": "stream",
     "text": [
      "Dataset Size: 11314\n",
      "Total targets: 20\n",
      "['alt.atheism', 'comp.graphics', 'comp.os.ms-windows.misc', 'comp.sys.ibm.pc.hardware', 'comp.sys.mac.hardware', 'comp.windows.x', 'misc.forsale', 'rec.autos', 'rec.motorcycles', 'rec.sport.baseball', 'rec.sport.hockey', 'sci.crypt', 'sci.electronics', 'sci.med', 'sci.space', 'soc.religion.christian', 'talk.politics.guns', 'talk.politics.mideast', 'talk.politics.misc', 'talk.religion.misc']\n"
     ]
    }
   ],
   "source": [
    "from sklearn.datasets import fetch_20newsgroups\n",
    "bunch = fetch_20newsgroups()\n",
    "print(\"Dataset Size: {}\".format(len(bunch.data)))\n",
    "print(\"Total targets: {}\".format(len(bunch.target_names)))\n",
    "print(bunch.target_names)"
   ]
  },
  {
   "cell_type": "markdown",
   "metadata": {
    "colab": {},
    "colab_type": "code",
    "id": "-auZJMdN_I7J"
   },
   "source": [
    "#### Pre-process the dataset: Convert to lowercase, remove punctuations, symbols, and stopwords."
   ]
  },
  {
   "cell_type": "code",
   "execution_count": 4,
   "metadata": {},
   "outputs": [],
   "source": [
    "tokenizer = RegexpTokenizer('[a-zA-Z][a-zA-Z]+')\n",
    "stop_words = stopwords.words('english')\n",
    "\n",
    "token_corp = []\n",
    "data = []\n",
    "for d in bunch.data:\n",
    "    tokens = tokenizer.tokenize(d)\n",
    "    tokens = [word.lower() for word in tokens if word not in stop_words]\n",
    "    token_corp.append(tokens)\n",
    "    data.append(\" \".join(tokens))\n"
   ]
  },
  {
   "cell_type": "code",
   "execution_count": 5,
   "metadata": {},
   "outputs": [
    {
     "name": "stdout",
     "output_type": "stream",
     "text": [
      "from lerxst wam umd edu thing subject what car nntp posting host rac wam umd edu organization university maryland college park lines wondering anyone could enlighten car saw day it door sports car looked late early it called bricklin the doors really small in addition front bumper separate rest body this know if anyone tellme model name engine specs years production car made history whatever info funky looking car please mail thanks il brought neighborhood lerxst\n",
      "['from', 'lerxst', 'wam', 'umd', 'edu', 'thing', 'subject', 'what', 'car', 'nntp', 'posting', 'host', 'rac', 'wam', 'umd', 'edu', 'organization', 'university', 'maryland', 'college', 'park', 'lines', 'wondering', 'anyone', 'could', 'enlighten', 'car', 'saw', 'day', 'it', 'door', 'sports', 'car', 'looked', 'late', 'early', 'it', 'called', 'bricklin', 'the', 'doors', 'really', 'small', 'in', 'addition', 'front', 'bumper', 'separate', 'rest', 'body', 'this', 'know', 'if', 'anyone', 'tellme', 'model', 'name', 'engine', 'specs', 'years', 'production', 'car', 'made', 'history', 'whatever', 'info', 'funky', 'looking', 'car', 'please', 'mail', 'thanks', 'il', 'brought', 'neighborhood', 'lerxst']\n"
     ]
    }
   ],
   "source": [
    "print(data[0])\n",
    "# corpus\n",
    "print(token_corp[0])"
   ]
  },
  {
   "cell_type": "markdown",
   "metadata": {},
   "source": [
    "#### Convert the words in the dataset to vectors of dimension 100 using Word2Vec. Ignore words whose frequency is less than 10."
   ]
  },
  {
   "cell_type": "code",
   "execution_count": 6,
   "metadata": {},
   "outputs": [],
   "source": [
    "import gensim\n",
    "from gensim import corpora, models, similarities\n",
    "from gensim.models.doc2vec import TaggedDocument"
   ]
  },
  {
   "cell_type": "code",
   "execution_count": 7,
   "metadata": {},
   "outputs": [],
   "source": [
    "word2vec_model = models.Word2Vec(token_corp, min_count=10, size = 100, workers=cores)"
   ]
  },
  {
   "cell_type": "code",
   "execution_count": 8,
   "metadata": {},
   "outputs": [
    {
     "name": "stdout",
     "output_type": "stream",
     "text": [
      "[-0.957142    1.2718711  -1.608585   -0.826192   -0.0671398   1.284624\n",
      " -0.16655283 -0.55756634  0.3735156  -1.0676367  -0.36760667  0.23601742\n",
      " -0.51836944 -0.04731796  1.728887   -2.233063   -0.14322263  0.43614012\n",
      "  2.1705244   0.23284334 -0.29410586 -0.30833915 -0.9285344   0.33990952\n",
      " -0.3075827  -0.93615144 -1.1813223   0.05605075 -0.76638836 -0.32100868\n",
      " -0.8358905  -0.467805    1.3677344  -0.99720997 -1.0145597   1.427753\n",
      " -0.5820866   2.0555491  -1.2377082  -0.20715272 -0.00283083  1.3284818\n",
      " -1.7711086   0.11633147 -0.19503732 -0.47215724  0.41688412  1.1593592\n",
      " -0.5409018   0.3788249  -0.0578074   0.15995297  0.277539   -2.039335\n",
      " -0.6984564  -1.5414819   0.74190605 -0.07942881  0.16590282 -0.59183055\n",
      "  0.57506293  0.25520766 -0.06558704 -0.8833686  -0.08790222 -1.6541843\n",
      "  1.1381905  -0.6979272   1.4354376   0.42826426  0.11248402 -1.3759563\n",
      " -0.34667552 -0.6984949   0.9723369   2.2592711   0.4085851  -0.56331986\n",
      " -0.599926   -1.5565403  -0.2606841  -0.39664367 -1.107383    2.0433383\n",
      "  1.6467232  -0.8319728   0.18692628  0.04976268 -1.84923    -1.0435457\n",
      " -1.1262426   0.04645707 -1.4562647  -0.5503362   1.445205    0.9135846\n",
      " -0.9219739   1.7688329  -0.6159033   0.88095427]\n",
      "Vocab(count:1327, index:165, sample_int:4294967296)\n"
     ]
    }
   ],
   "source": [
    "print(word2vec_model.wv['car'])\n",
    "print(word2vec_model.wv.vocab['car'])"
   ]
  },
  {
   "cell_type": "markdown",
   "metadata": {},
   "source": [
    "#### Vocabulary size"
   ]
  },
  {
   "cell_type": "code",
   "execution_count": 9,
   "metadata": {},
   "outputs": [
    {
     "name": "stdout",
     "output_type": "stream",
     "text": [
      "Vocabulary Size: 18159\n"
     ]
    }
   ],
   "source": [
    "print(\"Vocabulary Size: {}\".format(len(word2vec_model.wv.vocab)))"
   ]
  },
  {
   "cell_type": "markdown",
   "metadata": {},
   "source": [
    "#### Find the most similar words in the corpus to the word “car” along with their similarities."
   ]
  },
  {
   "cell_type": "code",
   "execution_count": 10,
   "metadata": {},
   "outputs": [
    {
     "name": "stdout",
     "output_type": "stream",
     "text": [
      "('cars', 0.8671793937683105)\n",
      "('dealer', 0.8416066765785217)\n",
      "('bikes', 0.820139467716217)\n",
      "('truck', 0.8057631850242615)\n",
      "('bike', 0.7986565828323364)\n",
      "('toyota', 0.7885808348655701)\n",
      "('owner', 0.7856862545013428)\n",
      "('bought', 0.7779989242553711)\n",
      "('tires', 0.768241822719574)\n",
      "('selling', 0.7677850723266602)\n"
     ]
    }
   ],
   "source": [
    "print(*word2vec_model.wv.most_similar('car'), sep=\"\\n\")"
   ]
  },
  {
   "cell_type": "markdown",
   "metadata": {},
   "source": [
    "#### Find top 5 words similar to the following operations:\n",
    "\n",
    "* girl + father - boy\n",
    "* sports - bat + ball"
   ]
  },
  {
   "cell_type": "code",
   "execution_count": 11,
   "metadata": {},
   "outputs": [
    {
     "name": "stdout",
     "output_type": "stream",
     "text": [
      "('son', 0.8432844877243042)\n",
      "('mother', 0.837133526802063)\n",
      "('fell', 0.8357111215591431)\n",
      "('sister', 0.8200226426124573)\n",
      "('empty', 0.8159705996513367)\n",
      "('broke', 0.8005450963973999)\n",
      "('tomb', 0.7977112531661987)\n",
      "('raped', 0.7967575192451477)\n",
      "('escaped', 0.7915889024734497)\n",
      "('burned', 0.7895085215568542)\n"
     ]
    }
   ],
   "source": [
    "print(*word2vec_model.wv.most_similar(positive=['girl', 'father'], negative=['boy']), sep=\"\\n\")"
   ]
  },
  {
   "cell_type": "code",
   "execution_count": 12,
   "metadata": {},
   "outputs": [
    {
     "name": "stdout",
     "output_type": "stream",
     "text": [
      "('tonight', 0.8517340421676636)\n",
      "('penguins', 0.8032501935958862)\n",
      "('watching', 0.7905383110046387)\n",
      "('morning', 0.7903867363929749)\n",
      "('career', 0.7852106094360352)\n",
      "('late', 0.7771626710891724)\n",
      "('playoffs', 0.7754347324371338)\n",
      "('espn', 0.7690677642822266)\n",
      "('played', 0.7677675485610962)\n",
      "('night', 0.7674670815467834)\n"
     ]
    }
   ],
   "source": [
    "print(*word2vec_model.wv.most_similar(positive=['sports', 'ball'], negative=['bat']), sep=\"\\n\")"
   ]
  },
  {
   "cell_type": "markdown",
   "metadata": {},
   "source": [
    "#### Create a TSNE plot for the top 20 words similar to each of the words [‘baseball’, ‘software’, ‘police’, ‘government’, ‘circuit’, ‘car’]."
   ]
  },
  {
   "cell_type": "code",
   "execution_count": 13,
   "metadata": {},
   "outputs": [
    {
     "name": "stdout",
     "output_type": "stream",
     "text": [
      "baseball, software, police, government, circuit, car, hockey, espn, nhl, players, fans, playoff, braves, playoffs, stats, phillies, league, majors, sports, pitching, team, game, sport, teams, yankees, pens, hardware, machines, graphics, packages, computers, macintosh, multimedia, platforms, developers, amiga, product, electronics, network, shareware, workstations, platform, libraries, vendor, borland, silicon, tax, concealed, income, federal, officer, officers, taxes, guard, cops, governments, carrying, armed, aid, party, passed, civil, refused, officials, crime, funds, citizen, citizens, interests, authorities, legitimate, federal, agencies, demand, legal, protect, experts, agents, governments, private, regulation, restrictions, americans, illegal, warrant, protecting, frequency, resolution, capability, amp, sampling, inputs, signals, storage, voltage, vertical, assembly, configuration, feature, receiver, load, converter, components, signal, transmission, connections, cars, dealer, bikes, truck, bike, toyota, owner, bought, tires, selling, miles, buying, mph, alarm, shop, honda, replaced, motorcycle, getting, paid\n"
     ]
    }
   ],
   "source": [
    "words = ['baseball', 'software', 'police', 'government', 'circuit', 'car']\n",
    "\n",
    "plot_words = copy.deepcopy(words)\n",
    "\n",
    "for w in words:\n",
    "    t = [tup[0] for tup in word2vec_model.wv.most_similar(w, topn=20)]\n",
    "    plot_words.extend(t)\n",
    "\n",
    "print(*plot_words, sep=', ')"
   ]
  },
  {
   "cell_type": "code",
   "execution_count": 14,
   "metadata": {},
   "outputs": [
    {
     "data": {
      "image/png": "[encoded data removed]",
      "text/plain": [
       "<Figure size 1152x576 with 1 Axes>"
      ]
     },
     "metadata": {
      "needs_background": "light"
     },
     "output_type": "display_data"
    }
   ],
   "source": [
    "labels = []\n",
    "tokens = []\n",
    "color_lst = ['b', 'r', 'g', 'y', 'c', 'm']\n",
    "\n",
    "for word in plot_words:\n",
    "    tokens.append(word2vec_model.wv[word])\n",
    "    labels.append(word)\n",
    "\n",
    "# tsne_model = TSNE(perplexity=40, n_components=2, init='pca', n_iter=2500, random_state=23)\n",
    "tsne_model = TSNE(perplexity=40, n_components=2, init='pca', n_iter=3000)\n",
    "new_values = tsne_model.fit_transform(tokens)\n",
    "\n",
    "x = []\n",
    "y = []\n",
    "for value in new_values:\n",
    "    x.append(value[0])\n",
    "    y.append(value[1])\n",
    "\n",
    "plt.figure(figsize=(16, 8)) \n",
    "for i in range(len(x)):\n",
    "    res = map(word2vec_model.wv.similarity, [labels[i] for j in range(len(words))], words)\n",
    "    t = np.argmax(list(res))\n",
    "    plt.scatter(x[i],y[i], c=color_lst[t])\n",
    "    plt.annotate(labels[i],\n",
    "                 xy=(x[i], y[i]),\n",
    "                 xytext=(5, 2),\n",
    "                 textcoords='offset points',\n",
    "                 ha='right',\n",
    "                 va='bottom')\n",
    "plt.show()"
   ]
  },
  {
   "cell_type": "markdown",
   "metadata": {},
   "source": [
    "#### The dataset consists of documents. Each document is a datapoint. Formulate a methodology to represent each document as a vector using the word vectors. Mention the method employed to create the vector representation of the documents.\n",
    "\n",
    "--> We can find the vector representation of a word using the word2vec model. Then we can operate on those vectors to form a better representation of the documents. Some of the operations that I could think of are: \n",
    "\n",
    "1. Concatenation of all word vectors which will result in a very large vector if document size is very big, hence this method has some disadvantages. Advantages includes preservation of the sequence in which words appears.\n",
    "\n",
    "2. Average of all the word vectors.\n",
    "\n",
    "3. Although average is a good choice but we can improve upon this by using weighted average of word vectors on the basis of their frequency. \n",
    "\n",
    "4. We can utilize the power of all of them to form a hybrid methodology, where document is processed line by line. First concatenate all the vectors in a line (zero pad if needed). Once you have all the line vectors take average of all of them to form a single document vector.\n",
    "\n",
    "--> The straightforward approach of averaging each of a text's words' word-vectors creates a quick and crude document-vector that can often be useful. However, Le and Mikolov in 2014 introduced the Paragraph Vector, which usually outperforms such simple-averaging.\n",
    "\n",
    "The basic idea is: act as if a document has another floating word-like vector, which contributes to all training predictions, and is updated like other word-vectors, but we will call it a doc-vector. Gensim's Doc2Vec class implements this algorithm and we are going to use the same model here."
   ]
  },
  {
   "cell_type": "code",
   "execution_count": 15,
   "metadata": {},
   "outputs": [],
   "source": [
    "# tag_doc_list = [TaggedDocument(w, bunch.target_names[i]) \n",
    "#                 for (w, i) in zip(token_corp, bunch.target)]\n",
    "\n",
    "# print(\"Total tag docs: {}\".format(len(tag_doc_list)))\n",
    "# print(\"Document: {}\\nTags:{}\".format(tag_doc_list[0][0] , tag_doc_list[0][1]))"
   ]
  },
  {
   "cell_type": "code",
   "execution_count": 16,
   "metadata": {},
   "outputs": [],
   "source": [
    "# doc2vec_model = models.doc2vec.Doc2Vec(documents=tag_doc_list, \n",
    "#                                         vector_size=300, workers=cores)"
   ]
  },
  {
   "cell_type": "markdown",
   "metadata": {},
   "source": [
    "### Text Classification using Word2Vec model"
   ]
  },
  {
   "cell_type": "code",
   "execution_count": 17,
   "metadata": {},
   "outputs": [],
   "source": [
    "# create a word2vec model \n",
    "# 0 : CBOW , 1: SG\n",
    "method = ['CBOW', 'SG']\n",
    "size = 100\n",
    "min_count = 1\n",
    "\n",
    "word2vec_models = [\n",
    "    models.Word2Vec(token_corp, min_count=min_count, size=size, workers=cores, sg=0),\n",
    "    models.Word2Vec(token_corp, min_count=min_count, size=size, workers=cores, sg=1)\n",
    "]"
   ]
  },
  {
   "cell_type": "code",
   "execution_count": 18,
   "metadata": {},
   "outputs": [],
   "source": [
    "def combine(X=None, wt=None, op='avg'):\n",
    "    if op == 'avg':\n",
    "        return np.mean(X, axis=0).tolist()\n",
    "    elif op == 'wtavg':\n",
    "        ll = np.array(wt).reshape(-1,1)\n",
    "        res = np.multiply(ll,np.array(X))\n",
    "        res = np.sum(res, axis=0)/np.sum(wt)\n",
    "        return res.tolist()"
   ]
  },
  {
   "cell_type": "code",
   "execution_count": 19,
   "metadata": {},
   "outputs": [],
   "source": [
    "# prepare the doc2vec dataset\n",
    "y = copy.deepcopy(bunch.target)\n",
    "dataset = []\n",
    "\n",
    "for m in word2vec_models:\n",
    "    X = []\n",
    "    for toks in token_corp:\n",
    "        curr_doc_wv = []\n",
    "        wt = []\n",
    "        \n",
    "        for w in toks:\n",
    "            try:\n",
    "                curr_doc_wv.append(m.wv[w])\n",
    "#                 print(m.wv.vocab[w].count)\n",
    "                wt.append(m.wv.vocab[w].count)\n",
    "            except:\n",
    "                pass\n",
    "        X.append(combine(curr_doc_wv, wt=wt, op='wtavg'))\n",
    "        \n",
    "    dataset.append(X)"
   ]
  },
  {
   "cell_type": "markdown",
   "metadata": {},
   "source": [
    "#### Split the dataset into training (70%), validation(10%) and testing(20%) data."
   ]
  },
  {
   "cell_type": "code",
   "execution_count": 29,
   "metadata": {},
   "outputs": [
    {
     "name": "stdout",
     "output_type": "stream",
     "text": [
      "============== METHOD : CBOW ==============\n",
      "X_train.shape : (7757, 100)\n",
      "X_test.shape : (2263, 100)\n",
      "X_val.shape : (1294, 100)\n",
      "y_train.shape : (7757,)\n",
      "y_test.shape : (2263,)\n",
      "y_val.shape : (1294,)\n",
      "Epoch 1/50\n",
      "1000/1000 [==============================] - 22s 22ms/step - loss: 1.4892 - acc: 0.5019 - val_loss: 1.5993 - val_acc: 0.5093\n",
      "Epoch 2/50\n",
      "1000/1000 [==============================] - 20s 20ms/step - loss: 0.9516 - acc: 0.6731 - val_loss: 1.7758 - val_acc: 0.5216\n",
      "Epoch 3/50\n",
      "1000/1000 [==============================] - 20s 20ms/step - loss: 0.7418 - acc: 0.7432 - val_loss: 1.9380 - val_acc: 0.5193\n",
      "Epoch 4/50\n",
      "1000/1000 [==============================] - 20s 20ms/step - loss: 0.6240 - acc: 0.7841 - val_loss: 2.1035 - val_acc: 0.4992\n",
      "Epoch 5/50\n",
      "1000/1000 [==============================] - 20s 20ms/step - loss: 0.5535 - acc: 0.8095 - val_loss: 2.2227 - val_acc: 0.5000\n",
      "Epoch 6/50\n",
      "1000/1000 [==============================] - 20s 20ms/step - loss: 0.5028 - acc: 0.8278 - val_loss: 2.3190 - val_acc: 0.5031\n",
      "Epoch 7/50\n",
      "1000/1000 [==============================] - 20s 20ms/step - loss: 0.4680 - acc: 0.8406 - val_loss: 2.4301 - val_acc: 0.5124\n",
      "Epoch 8/50\n",
      "1000/1000 [==============================] - 20s 20ms/step - loss: 0.4402 - acc: 0.8509 - val_loss: 2.4928 - val_acc: 0.5023\n",
      "Epoch 9/50\n",
      "1000/1000 [==============================] - 20s 20ms/step - loss: 0.4184 - acc: 0.8586 - val_loss: 2.5409 - val_acc: 0.5054\n",
      "Epoch 10/50\n",
      "1000/1000 [==============================] - 20s 20ms/step - loss: 0.4008 - acc: 0.8650 - val_loss: 2.5717 - val_acc: 0.5093\n",
      "Epoch 11/50\n",
      "1000/1000 [==============================] - 20s 20ms/step - loss: 0.3847 - acc: 0.8707 - val_loss: 2.6206 - val_acc: 0.5023\n",
      "Epoch 12/50\n",
      "1000/1000 [==============================] - 20s 20ms/step - loss: 0.3729 - acc: 0.8749 - val_loss: 2.6660 - val_acc: 0.5031\n",
      "Epoch 13/50\n",
      "1000/1000 [==============================] - 20s 20ms/step - loss: 0.3614 - acc: 0.8790 - val_loss: 2.7284 - val_acc: 0.5054\n",
      "Epoch 14/50\n",
      "1000/1000 [==============================] - 20s 20ms/step - loss: 0.3516 - acc: 0.8825 - val_loss: 2.7031 - val_acc: 0.5015\n",
      "Epoch 15/50\n",
      "1000/1000 [==============================] - 20s 20ms/step - loss: 0.3429 - acc: 0.8856 - val_loss: 2.7531 - val_acc: 0.5046\n",
      "Epoch 16/50\n",
      "1000/1000 [==============================] - 20s 20ms/step - loss: 0.3352 - acc: 0.8883 - val_loss: 2.7316 - val_acc: 0.5077\n",
      "Epoch 17/50\n",
      "1000/1000 [==============================] - 20s 20ms/step - loss: 0.3279 - acc: 0.8908 - val_loss: 2.8253 - val_acc: 0.5031\n",
      "Epoch 18/50\n",
      "1000/1000 [==============================] - 20s 20ms/step - loss: 0.3222 - acc: 0.8928 - val_loss: 2.7958 - val_acc: 0.5039\n",
      "Epoch 19/50\n",
      "1000/1000 [==============================] - 21s 21ms/step - loss: 0.3170 - acc: 0.8946 - val_loss: 2.7986 - val_acc: 0.5139\n",
      "Epoch 20/50\n",
      "1000/1000 [==============================] - 21s 21ms/step - loss: 0.3119 - acc: 0.8964 - val_loss: 2.8519 - val_acc: 0.5108\n",
      "Epoch 21/50\n",
      "1000/1000 [==============================] - 20s 20ms/step - loss: 0.3077 - acc: 0.8978 - val_loss: 2.8343 - val_acc: 0.5093\n",
      "Epoch 22/50\n",
      "1000/1000 [==============================] - 20s 20ms/step - loss: 0.3021 - acc: 0.8998 - val_loss: 2.8911 - val_acc: 0.5116\n",
      "Epoch 23/50\n",
      "1000/1000 [==============================] - 20s 20ms/step - loss: 0.2987 - acc: 0.9010 - val_loss: 2.8389 - val_acc: 0.5062\n",
      "Epoch 24/50\n",
      "1000/1000 [==============================] - 20s 20ms/step - loss: 0.2939 - acc: 0.9027 - val_loss: 2.8389 - val_acc: 0.5100\n",
      "Epoch 25/50\n",
      "1000/1000 [==============================] - 20s 20ms/step - loss: 0.2909 - acc: 0.9037 - val_loss: 2.9073 - val_acc: 0.5023\n",
      "Epoch 26/50\n",
      "1000/1000 [==============================] - 20s 20ms/step - loss: 0.2885 - acc: 0.9045 - val_loss: 2.8744 - val_acc: 0.5046\n",
      "Epoch 27/50\n",
      "1000/1000 [==============================] - 20s 20ms/step - loss: 0.2828 - acc: 0.9066 - val_loss: 2.8894 - val_acc: 0.5015\n",
      "Epoch 28/50\n",
      "1000/1000 [==============================] - 20s 20ms/step - loss: 0.2819 - acc: 0.9070 - val_loss: 2.8824 - val_acc: 0.5000\n",
      "Epoch 29/50\n",
      "1000/1000 [==============================] - 21s 21ms/step - loss: 0.2794 - acc: 0.9077 - val_loss: 2.8650 - val_acc: 0.5039\n",
      "Epoch 30/50\n",
      "1000/1000 [==============================] - 22s 22ms/step - loss: 0.2762 - acc: 0.9089 - val_loss: 2.8709 - val_acc: 0.5124\n",
      "Epoch 31/50\n",
      "1000/1000 [==============================] - 20s 20ms/step - loss: 0.2746 - acc: 0.9094 - val_loss: 2.8715 - val_acc: 0.5085\n",
      "Epoch 32/50\n",
      "1000/1000 [==============================] - 20s 20ms/step - loss: 0.2733 - acc: 0.9097 - val_loss: 2.9050 - val_acc: 0.4992\n",
      "Epoch 33/50\n",
      "1000/1000 [==============================] - 20s 20ms/step - loss: 0.2696 - acc: 0.9111 - val_loss: 2.9164 - val_acc: 0.5116\n",
      "Epoch 34/50\n",
      "1000/1000 [==============================] - 20s 20ms/step - loss: 0.2667 - acc: 0.9120 - val_loss: 2.9109 - val_acc: 0.5077\n",
      "Epoch 35/50\n",
      "1000/1000 [==============================] - 20s 20ms/step - loss: 0.2662 - acc: 0.9122 - val_loss: 2.9430 - val_acc: 0.5046\n",
      "Epoch 36/50\n",
      "1000/1000 [==============================] - 20s 20ms/step - loss: 0.2641 - acc: 0.9129 - val_loss: 2.9305 - val_acc: 0.5147\n",
      "Epoch 37/50\n",
      "1000/1000 [==============================] - 20s 20ms/step - loss: 0.2612 - acc: 0.9140 - val_loss: 2.9430 - val_acc: 0.5023\n",
      "Epoch 38/50\n",
      "1000/1000 [==============================] - 20s 20ms/step - loss: 0.2621 - acc: 0.9136 - val_loss: 2.9222 - val_acc: 0.5031\n",
      "Epoch 39/50\n",
      "1000/1000 [==============================] - 20s 20ms/step - loss: 0.2582 - acc: 0.9150 - val_loss: 2.9131 - val_acc: 0.5108\n",
      "Epoch 40/50\n",
      "1000/1000 [==============================] - 22s 22ms/step - loss: 0.2567 - acc: 0.9154 - val_loss: 2.9343 - val_acc: 0.5139\n",
      "Epoch 41/50\n",
      "1000/1000 [==============================] - 21s 21ms/step - loss: 0.2543 - acc: 0.9163 - val_loss: 2.9436 - val_acc: 0.5070\n",
      "Epoch 42/50\n",
      "1000/1000 [==============================] - 20s 20ms/step - loss: 0.2543 - acc: 0.9164 - val_loss: 2.9439 - val_acc: 0.5054\n",
      "Epoch 43/50\n",
      "1000/1000 [==============================] - 20s 20ms/step - loss: 0.2527 - acc: 0.9168 - val_loss: 2.9058 - val_acc: 0.5039\n",
      "Epoch 44/50\n",
      "1000/1000 [==============================] - 20s 20ms/step - loss: 0.2516 - acc: 0.9171 - val_loss: 2.9098 - val_acc: 0.5085\n",
      "Epoch 45/50\n",
      "1000/1000 [==============================] - 20s 20ms/step - loss: 0.2500 - acc: 0.9178 - val_loss: 2.8979 - val_acc: 0.4938\n",
      "Epoch 46/50\n",
      "1000/1000 [==============================] - 20s 20ms/step - loss: 0.2483 - acc: 0.9184 - val_loss: 2.9281 - val_acc: 0.5023\n",
      "Epoch 47/50\n",
      "1000/1000 [==============================] - 20s 20ms/step - loss: 0.2465 - acc: 0.9190 - val_loss: 2.9158 - val_acc: 0.5023\n",
      "Epoch 48/50\n",
      "1000/1000 [==============================] - 20s 20ms/step - loss: 0.2465 - acc: 0.9189 - val_loss: 2.9158 - val_acc: 0.5131\n",
      "Epoch 49/50\n",
      "1000/1000 [==============================] - 20s 20ms/step - loss: 0.2451 - acc: 0.9193 - val_loss: 2.9494 - val_acc: 0.5023\n",
      "Epoch 50/50\n",
      "1000/1000 [==============================] - 20s 20ms/step - loss: 0.2440 - acc: 0.9199 - val_loss: 2.8783 - val_acc: 0.4992\n",
      "2263/2263 [==============================] - 0s 17us/sample - loss: 3.0099 - acc: 0.5130\n",
      "============== METHOD : SG ==============\n",
      "X_train.shape : (7757, 100)\n",
      "X_test.shape : (2263, 100)\n",
      "X_val.shape : (1294, 100)\n",
      "y_train.shape : (7757,)\n",
      "y_test.shape : (2263,)\n",
      "y_val.shape : (1294,)\n",
      "Epoch 1/50\n",
      "1000/1000 [==============================] - 21s 21ms/step - loss: 1.4920 - acc: 0.5002 - val_loss: 1.5788 - val_acc: 0.5201\n",
      "Epoch 2/50\n",
      "1000/1000 [==============================] - 20s 20ms/step - loss: 0.9549 - acc: 0.6699 - val_loss: 1.7182 - val_acc: 0.5085\n",
      "Epoch 3/50\n",
      "1000/1000 [==============================] - 20s 20ms/step - loss: 0.7333 - acc: 0.7447 - val_loss: 1.8839 - val_acc: 0.5139\n",
      "Epoch 4/50\n",
      "1000/1000 [==============================] - 20s 20ms/step - loss: 0.6086 - acc: 0.7885 - val_loss: 2.0004 - val_acc: 0.5085\n",
      "Epoch 5/50\n",
      "1000/1000 [==============================] - 20s 20ms/step - loss: 0.5354 - acc: 0.8153 - val_loss: 2.1097 - val_acc: 0.5155\n",
      "Epoch 6/50\n",
      "1000/1000 [==============================] - 20s 20ms/step - loss: 0.4852 - acc: 0.8334 - val_loss: 2.1445 - val_acc: 0.5147\n",
      "Epoch 7/50\n"
     ]
    },
    {
     "name": "stdout",
     "output_type": "stream",
     "text": [
      "1000/1000 [==============================] - 20s 20ms/step - loss: 0.4481 - acc: 0.8469 - val_loss: 2.2155 - val_acc: 0.5216\n",
      "Epoch 8/50\n",
      "1000/1000 [==============================] - 20s 20ms/step - loss: 0.4226 - acc: 0.8563 - val_loss: 2.2455 - val_acc: 0.5240\n",
      "Epoch 9/50\n",
      "1000/1000 [==============================] - 22s 22ms/step - loss: 0.4026 - acc: 0.8636 - val_loss: 2.3012 - val_acc: 0.5216\n",
      "Epoch 10/50\n",
      "1000/1000 [==============================] - 20s 20ms/step - loss: 0.3820 - acc: 0.8710 - val_loss: 2.3310 - val_acc: 0.5216\n",
      "Epoch 11/50\n",
      "1000/1000 [==============================] - 20s 20ms/step - loss: 0.3700 - acc: 0.8754 - val_loss: 2.3712 - val_acc: 0.5147\n",
      "Epoch 12/50\n",
      "1000/1000 [==============================] - 20s 20ms/step - loss: 0.3567 - acc: 0.8801 - val_loss: 2.4197 - val_acc: 0.5240\n",
      "Epoch 13/50\n",
      "1000/1000 [==============================] - 22s 22ms/step - loss: 0.3468 - acc: 0.8836 - val_loss: 2.4327 - val_acc: 0.5162\n",
      "Epoch 14/50\n",
      "1000/1000 [==============================] - 20s 20ms/step - loss: 0.3373 - acc: 0.8871 - val_loss: 2.4073 - val_acc: 0.5240\n",
      "Epoch 15/50\n",
      "1000/1000 [==============================] - 20s 20ms/step - loss: 0.3309 - acc: 0.8893 - val_loss: 2.4616 - val_acc: 0.5162\n",
      "Epoch 16/50\n",
      "1000/1000 [==============================] - 20s 20ms/step - loss: 0.3233 - acc: 0.8919 - val_loss: 2.5017 - val_acc: 0.5155\n",
      "Epoch 17/50\n",
      "1000/1000 [==============================] - 20s 20ms/step - loss: 0.3179 - acc: 0.8941 - val_loss: 2.5711 - val_acc: 0.5131\n",
      "Epoch 18/50\n",
      "1000/1000 [==============================] - 20s 20ms/step - loss: 0.3115 - acc: 0.8962 - val_loss: 2.5336 - val_acc: 0.5209\n",
      "Epoch 19/50\n",
      "1000/1000 [==============================] - 20s 20ms/step - loss: 0.3067 - acc: 0.8978 - val_loss: 2.6099 - val_acc: 0.5108\n",
      "Epoch 20/50\n",
      "1000/1000 [==============================] - 21s 21ms/step - loss: 0.3013 - acc: 0.8998 - val_loss: 2.5827 - val_acc: 0.5015\n",
      "Epoch 21/50\n",
      "1000/1000 [==============================] - 21s 21ms/step - loss: 0.2977 - acc: 0.9011 - val_loss: 2.6189 - val_acc: 0.5039\n",
      "Epoch 22/50\n",
      "1000/1000 [==============================] - 20s 20ms/step - loss: 0.2935 - acc: 0.9024 - val_loss: 2.5915 - val_acc: 0.5108\n",
      "Epoch 23/50\n",
      "1000/1000 [==============================] - 20s 20ms/step - loss: 0.2905 - acc: 0.9036 - val_loss: 2.6481 - val_acc: 0.5093\n",
      "Epoch 24/50\n",
      "1000/1000 [==============================] - 20s 20ms/step - loss: 0.2862 - acc: 0.9051 - val_loss: 2.5974 - val_acc: 0.5131\n",
      "Epoch 25/50\n",
      "1000/1000 [==============================] - 20s 20ms/step - loss: 0.2842 - acc: 0.9058 - val_loss: 2.6341 - val_acc: 0.5247\n",
      "Epoch 26/50\n",
      "1000/1000 [==============================] - 20s 20ms/step - loss: 0.2807 - acc: 0.9069 - val_loss: 2.6422 - val_acc: 0.5100\n",
      "Epoch 27/50\n",
      "1000/1000 [==============================] - 20s 20ms/step - loss: 0.2782 - acc: 0.9077 - val_loss: 2.6347 - val_acc: 0.5046\n",
      "Epoch 28/50\n",
      "1000/1000 [==============================] - 20s 20ms/step - loss: 0.2755 - acc: 0.9088 - val_loss: 2.6792 - val_acc: 0.5185\n",
      "Epoch 29/50\n",
      "1000/1000 [==============================] - 20s 20ms/step - loss: 0.2725 - acc: 0.9098 - val_loss: 2.6813 - val_acc: 0.5085\n",
      "Epoch 30/50\n",
      "1000/1000 [==============================] - 20s 20ms/step - loss: 0.2706 - acc: 0.9105 - val_loss: 2.6682 - val_acc: 0.5100\n",
      "Epoch 31/50\n",
      "1000/1000 [==============================] - 20s 20ms/step - loss: 0.2680 - acc: 0.9113 - val_loss: 2.6854 - val_acc: 0.5116\n",
      "Epoch 32/50\n",
      "1000/1000 [==============================] - 20s 20ms/step - loss: 0.2668 - acc: 0.9118 - val_loss: 2.6666 - val_acc: 0.5046\n",
      "Epoch 33/50\n",
      "1000/1000 [==============================] - 20s 20ms/step - loss: 0.2642 - acc: 0.9128 - val_loss: 2.6889 - val_acc: 0.5131\n",
      "Epoch 34/50\n",
      "1000/1000 [==============================] - 20s 20ms/step - loss: 0.2623 - acc: 0.9133 - val_loss: 2.6800 - val_acc: 0.5108\n",
      "Epoch 35/50\n",
      "1000/1000 [==============================] - 20s 20ms/step - loss: 0.2594 - acc: 0.9144 - val_loss: 2.7141 - val_acc: 0.5170\n",
      "Epoch 36/50\n",
      "1000/1000 [==============================] - 20s 20ms/step - loss: 0.2584 - acc: 0.9148 - val_loss: 2.6589 - val_acc: 0.5147\n",
      "Epoch 37/50\n",
      "1000/1000 [==============================] - 20s 20ms/step - loss: 0.2562 - acc: 0.9154 - val_loss: 2.6683 - val_acc: 0.5124\n",
      "Epoch 38/50\n",
      "1000/1000 [==============================] - 20s 20ms/step - loss: 0.2549 - acc: 0.9158 - val_loss: 2.6793 - val_acc: 0.5100\n",
      "Epoch 39/50\n",
      "1000/1000 [==============================] - 20s 20ms/step - loss: 0.2526 - acc: 0.9165 - val_loss: 2.6980 - val_acc: 0.5046\n",
      "Epoch 40/50\n",
      "1000/1000 [==============================] - 20s 20ms/step - loss: 0.2519 - acc: 0.9169 - val_loss: 2.6840 - val_acc: 0.5100\n",
      "Epoch 41/50\n",
      "1000/1000 [==============================] - 20s 20ms/step - loss: 0.2505 - acc: 0.9174 - val_loss: 2.6478 - val_acc: 0.5216\n",
      "Epoch 42/50\n",
      "1000/1000 [==============================] - 20s 20ms/step - loss: 0.2508 - acc: 0.9174 - val_loss: 2.7408 - val_acc: 0.5100\n",
      "Epoch 43/50\n",
      "1000/1000 [==============================] - 20s 20ms/step - loss: 0.2476 - acc: 0.9184 - val_loss: 2.7370 - val_acc: 0.5031\n",
      "Epoch 44/50\n",
      "1000/1000 [==============================] - 20s 20ms/step - loss: 0.2475 - acc: 0.9184 - val_loss: 2.6552 - val_acc: 0.5155\n",
      "Epoch 45/50\n",
      "1000/1000 [==============================] - 20s 20ms/step - loss: 0.2438 - acc: 0.9196 - val_loss: 2.6981 - val_acc: 0.5108\n",
      "Epoch 46/50\n",
      "1000/1000 [==============================] - 20s 20ms/step - loss: 0.2443 - acc: 0.9195 - val_loss: 2.7183 - val_acc: 0.5039\n",
      "Epoch 47/50\n",
      "1000/1000 [==============================] - 20s 20ms/step - loss: 0.2438 - acc: 0.9197 - val_loss: 2.6707 - val_acc: 0.5209\n",
      "Epoch 48/50\n",
      "1000/1000 [==============================] - 20s 20ms/step - loss: 0.2399 - acc: 0.9210 - val_loss: 2.7235 - val_acc: 0.5046\n",
      "Epoch 49/50\n",
      "1000/1000 [==============================] - 20s 20ms/step - loss: 0.2410 - acc: 0.9207 - val_loss: 2.7354 - val_acc: 0.5116\n",
      "Epoch 50/50\n",
      "1000/1000 [==============================] - 20s 20ms/step - loss: 0.2388 - acc: 0.9213 - val_loss: 2.6825 - val_acc: 0.5054\n",
      "2263/2263 [==============================] - 0s 18us/sample - loss: 2.8307 - acc: 0.5011\n"
     ]
    }
   ],
   "source": [
    "train_size = 0.7\n",
    "validation_size = 0.1\n",
    "test_size = 0.2\n",
    "\n",
    "for m in range(len(word2vec_models)):    \n",
    "    X = dataset[0]\n",
    "\n",
    "    X_train, X_test, y_train, y_test = train_test_split(X, y, test_size=test_size, random_state=1)\n",
    "    \n",
    "    X_train, X_val, y_train, y_val = train_test_split(X_train, y_train, \n",
    "                                test_size=(validation_size/train_size), random_state=1)\n",
    "    \n",
    "    X_train = np.array(X_train)\n",
    "    X_test = np.array(X_test)\n",
    "    X_val = np.array(X_val)\n",
    "    \n",
    "    y_train = np.array(y_train)\n",
    "    y_test = np.array(y_test)\n",
    "    y_val = np.array(y_val)\n",
    "    \n",
    "    print(\"============== METHOD : {} ==============\".format(method[m]))\n",
    "    print(\"X_train.shape : {}\".format(X_train.shape))\n",
    "    print(\"X_test.shape : {}\".format(X_test.shape))\n",
    "    print(\"X_val.shape : {}\".format(X_val.shape))\n",
    "    print(\"y_train.shape : {}\".format(y_train.shape))\n",
    "    print(\"y_test.shape : {}\".format(y_test.shape))\n",
    "    print(\"y_val.shape : {}\".format(y_val.shape))\n",
    "    \n",
    "    num_features = len(X_train[0])\n",
    "    num_classes = len(bunch.target_names)\n",
    "    train_target = to_categorical(y_train, num_classes=num_classes)\n",
    "    val_target = to_categorical(y_val, num_classes=num_classes)\n",
    "    test_target = to_categorical(y_test, num_classes=num_classes)\n",
    "    \n",
    "    model = tf.keras.models.Sequential([\n",
    "        tf.keras.layers.Dense(units=num_features, input_shape=(num_features,)),\n",
    "        tf.keras.layers.Dense(150, activation='relu'),\n",
    "        tf.keras.layers.Dropout(0.2),\n",
    "        tf.keras.layers.Dense(100, activation='relu'),\n",
    "        tf.keras.layers.Dropout(0.1),\n",
    "        tf.keras.layers.Dense(50, activation='relu'),\n",
    "        tf.keras.layers.Dense(num_classes, activation='softmax')\n",
    "    ])\n",
    "\n",
    "    model.compile(optimizer='adam', loss='categorical_crossentropy', metrics=['accuracy'])\n",
    "    \n",
    "    # Train neural network\n",
    "    history = model.fit(X_train, # Features\n",
    "                          train_target, # Target vector\n",
    "                          epochs=50, # Three epochs\n",
    "                          verbose=1, # No output\n",
    "                          batch_size=500, # Number of observations per batch\n",
    "                          steps_per_epoch=1000,\n",
    "                          validation_data=(X_val, val_target)) # Data to use for evaluation\n",
    "    \n",
    "    model.evaluate(X_test, test_target)"
   ]
  },
  {
   "cell_type": "code",
   "execution_count": null,
   "metadata": {},
   "outputs": [],
   "source": []
  }
 ],
 "metadata": {
  "accelerator": "GPU",
  "colab": {
   "collapsed_sections": [],
   "name": "word2vec.ipynb",
   "provenance": []
  },
  "kernelspec": {
   "display_name": "Python 3",
   "language": "python",
   "name": "python3"
  },
  "language_info": {
   "codemirror_mode": {
    "name": "ipython",
    "version": 3
   },
   "file_extension": ".py",
   "mimetype": "text/x-python",
   "name": "python",
   "nbconvert_exporter": "python",
   "pygments_lexer": "ipython3",
   "version": "3.7.3"
  }
 },
 "nbformat": 4,
 "nbformat_minor": 1
}
