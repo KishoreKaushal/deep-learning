{
  "nbformat": 4,
  "nbformat_minor": 0,
  "metadata": {
    "colab": {
      "name": "word2vec.ipynb",
      "provenance": [],
      "collapsed_sections": []
    },
    "kernelspec": {
      "name": "python3",
      "display_name": "Python 3"
    },
    "accelerator": "GPU"
  },
  "cells": [
    {
      "cell_type": "markdown",
      "metadata": {
        "id": "uAkYlLVv-olC",
        "colab_type": "text"
      },
      "source": [
        "# Text Classification"
      ]
    },
    {
      "cell_type": "markdown",
      "metadata": {
        "id": "cR-qGVUn-vp_",
        "colab_type": "text"
      },
      "source": [
        "20-newgroup dataset is a collection of newsgroups in 20 topics. Fetch 20-newsgroup dataset."
      ]
    },
    {
      "cell_type": "code",
      "metadata": {
        "id": "V8b6X4t-97On",
        "colab_type": "code",
        "colab": {
          "base_uri": "https://localhost:8080/",
          "height": 70
        },
        "outputId": "0ce4bf1c-15e7-46bd-9cc8-cce7ab38648a"
      },
      "source": [
        "from sklearn.datasets import fetch_20newsgroups\n",
        "data = fetch_20newsgroups()"
      ],
      "execution_count": 5,
      "outputs": [
        {
          "output_type": "stream",
          "text": [
            "Downloading 20news dataset. This may take a few minutes.\n",
            "Downloading dataset from https://ndownloader.figshare.com/files/5975967 (14 MB)\n"
          ],
          "name": "stderr"
        }
      ]
    },
    {
      "cell_type": "code",
      "metadata": {
        "id": "-auZJMdN_I7J",
        "colab_type": "code",
        "colab": {}
      },
      "source": [
        "print(fetch)"
      ],
      "execution_count": 0,
      "outputs": []
    }
  ]
}